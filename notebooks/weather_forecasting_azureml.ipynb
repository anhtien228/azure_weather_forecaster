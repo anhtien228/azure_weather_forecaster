{
 "cells": [
  {
   "cell_type": "markdown",
   "metadata": {},
   "source": [
    "#### **Import Data**"
   ]
  },
  {
   "cell_type": "code",
   "execution_count": 2,
   "metadata": {},
   "outputs": [],
   "source": [
    "# Import libraries\n",
    "import os\n",
    "import glob\n",
    "import datetime\n",
    "\n",
    "import IPython\n",
    "import IPython.display\n",
    "import matplotlib as mpl\n",
    "import matplotlib.pyplot as plt\n",
    "import pandas as pd\n",
    "import numpy as np\n",
    "import seaborn as sns\n",
    "from sklearn.impute import SimpleImputer\n",
    "\n",
    "\n",
    "csv_files = glob.glob('../*/*.csv')"
   ]
  },
  {
   "cell_type": "markdown",
   "metadata": {},
   "source": [
    "#### **Setup**"
   ]
  },
  {
   "cell_type": "code",
   "execution_count": 4,
   "metadata": {},
   "outputs": [],
   "source": [
    "import json\n",
    "import logging\n",
    "\n",
    "import azureml.core\n",
    "import pandas as pd\n",
    "from azureml.automl.core.featurization import FeaturizationConfig\n",
    "from azureml.core.experiment import Experiment\n",
    "from azureml.core.workspace import Workspace\n",
    "from azureml.train.automl import AutoMLConfig"
   ]
  },
  {
   "cell_type": "code",
   "execution_count": 5,
   "metadata": {},
   "outputs": [
    {
     "name": "stdout",
     "output_type": "stream",
     "text": [
      "Azure ML SDK version 1.39.0\n"
     ]
    }
   ],
   "source": [
    "print(\"Azure ML SDK version\", azureml.core.VERSION)"
   ]
  },
  {
   "cell_type": "code",
   "execution_count": 6,
   "metadata": {},
   "outputs": [],
   "source": [
    "ws = Workspace.from_config()"
   ]
  },
  {
   "cell_type": "code",
   "execution_count": 7,
   "metadata": {},
   "outputs": [
    {
     "data": {
      "text/html": [
       "<div>\n",
       "<style scoped>\n",
       "    .dataframe tbody tr th:only-of-type {\n",
       "        vertical-align: middle;\n",
       "    }\n",
       "\n",
       "    .dataframe tbody tr th {\n",
       "        vertical-align: top;\n",
       "    }\n",
       "\n",
       "    .dataframe thead th {\n",
       "        text-align: right;\n",
       "    }\n",
       "</style>\n",
       "<table border=\"1\" class=\"dataframe\">\n",
       "  <thead>\n",
       "    <tr style=\"text-align: right;\">\n",
       "      <th></th>\n",
       "      <th></th>\n",
       "    </tr>\n",
       "  </thead>\n",
       "  <tbody>\n",
       "    <tr>\n",
       "      <th>Subscription ID</th>\n",
       "      <td>8791d321-d956-4566-8a38-238c7aab2ebd</td>\n",
       "    </tr>\n",
       "    <tr>\n",
       "      <th>Workspace</th>\n",
       "      <td>ml-study-tien</td>\n",
       "    </tr>\n",
       "    <tr>\n",
       "      <th>SKU</th>\n",
       "      <td>Basic</td>\n",
       "    </tr>\n",
       "    <tr>\n",
       "      <th>Resource Group</th>\n",
       "      <td>ml-study</td>\n",
       "    </tr>\n",
       "    <tr>\n",
       "      <th>Location</th>\n",
       "      <td>eastus2</td>\n",
       "    </tr>\n",
       "    <tr>\n",
       "      <th>Run History Name</th>\n",
       "      <td>automl-weather-forecasting</td>\n",
       "    </tr>\n",
       "  </tbody>\n",
       "</table>\n",
       "</div>"
      ],
      "text/plain": [
       "                                                      \n",
       "Subscription ID   8791d321-d956-4566-8a38-238c7aab2ebd\n",
       "Workspace                                ml-study-tien\n",
       "SKU                                              Basic\n",
       "Resource Group                                ml-study\n",
       "Location                                       eastus2\n",
       "Run History Name            automl-weather-forecasting"
      ]
     },
     "execution_count": 7,
     "metadata": {},
     "output_type": "execute_result"
    }
   ],
   "source": [
    "experiment_name = \"automl-weather-forecasting\"\n",
    "\n",
    "experiment = Experiment(ws, experiment_name)\n",
    "\n",
    "output = {}\n",
    "output[\"Subscription ID\"] = ws.subscription_id\n",
    "output[\"Workspace\"] = ws.name\n",
    "output[\"SKU\"] = ws.sku\n",
    "output[\"Resource Group\"] = ws.resource_group\n",
    "output[\"Location\"] = ws.location\n",
    "output[\"Run History Name\"] = experiment_name\n",
    "pd.set_option(\"display.max_colwidth\", None)\n",
    "outputDf = pd.DataFrame(data=output, index=[\"\"])\n",
    "outputDf.T"
   ]
  },
  {
   "cell_type": "markdown",
   "metadata": {},
   "source": [
    "#### **Compute**"
   ]
  },
  {
   "cell_type": "code",
   "execution_count": 8,
   "metadata": {},
   "outputs": [
    {
     "name": "stdout",
     "output_type": "stream",
     "text": [
      "Found existing compute cluster.\n",
      "Succeeded\n",
      "AmlCompute wait for completion finished\n",
      "\n",
      "Minimum number of nodes requested have been provisioned\n"
     ]
    }
   ],
   "source": [
    "from azureml.core.compute import ComputeTarget, AmlCompute\n",
    "from azureml.core.compute_target import ComputeTargetException\n",
    "\n",
    "# Azure ML compute cluster name\n",
    "amlcompute_cluster_name = 'weather-cluster'\n",
    "\n",
    "try:\n",
    "    compute_target = ComputeTarget(workspace=ws, name=amlcompute_cluster_name)\n",
    "    print(\"Found existing compute cluster.\")\n",
    "except ComputeTargetException:\n",
    "    compute_config = AmlCompute.provisioning_configuration(\n",
    "        vm_size=\"Standard_DS3_v2\", max_nodes=6\n",
    "    )\n",
    "    compute_target = ComputeTarget.create(ws, amlcompute_cluster_name, compute_config)\n",
    "\n",
    "compute_target.wait_for_completion(show_output=True)"
   ]
  },
  {
   "cell_type": "markdown",
   "metadata": {},
   "source": [
    "#### **Data Configuration**"
   ]
  },
  {
   "cell_type": "code",
   "execution_count": 9,
   "metadata": {},
   "outputs": [
    {
     "data": {
      "text/html": [
       "<div>\n",
       "<style scoped>\n",
       "    .dataframe tbody tr th:only-of-type {\n",
       "        vertical-align: middle;\n",
       "    }\n",
       "\n",
       "    .dataframe tbody tr th {\n",
       "        vertical-align: top;\n",
       "    }\n",
       "\n",
       "    .dataframe thead th {\n",
       "        text-align: right;\n",
       "    }\n",
       "</style>\n",
       "<table border=\"1\" class=\"dataframe\">\n",
       "  <thead>\n",
       "    <tr style=\"text-align: right;\">\n",
       "      <th></th>\n",
       "      <th>dt</th>\n",
       "      <th>temp</th>\n",
       "      <th>feels_like</th>\n",
       "      <th>temp_min</th>\n",
       "      <th>temp_max</th>\n",
       "      <th>pressure</th>\n",
       "      <th>humidity</th>\n",
       "      <th>wind_speed</th>\n",
       "      <th>clouds_all</th>\n",
       "      <th>weather_main</th>\n",
       "      <th>wind_x</th>\n",
       "      <th>wind_y</th>\n",
       "    </tr>\n",
       "  </thead>\n",
       "  <tbody>\n",
       "    <tr>\n",
       "      <th>0</th>\n",
       "      <td>978307200</td>\n",
       "      <td>21.87</td>\n",
       "      <td>25.26</td>\n",
       "      <td>21.40</td>\n",
       "      <td>23.09</td>\n",
       "      <td>1011</td>\n",
       "      <td>96</td>\n",
       "      <td>1.28</td>\n",
       "      <td>20</td>\n",
       "      <td>Mist</td>\n",
       "      <td>1.150456</td>\n",
       "      <td>0.561115</td>\n",
       "    </tr>\n",
       "    <tr>\n",
       "      <th>1</th>\n",
       "      <td>978310800</td>\n",
       "      <td>22.83</td>\n",
       "      <td>25.72</td>\n",
       "      <td>22.18</td>\n",
       "      <td>23.00</td>\n",
       "      <td>1012</td>\n",
       "      <td>83</td>\n",
       "      <td>1.00</td>\n",
       "      <td>20</td>\n",
       "      <td>Mist</td>\n",
       "      <td>0.984808</td>\n",
       "      <td>-0.173648</td>\n",
       "    </tr>\n",
       "    <tr>\n",
       "      <th>2</th>\n",
       "      <td>978314400</td>\n",
       "      <td>26.13</td>\n",
       "      <td>29.56</td>\n",
       "      <td>26.00</td>\n",
       "      <td>26.49</td>\n",
       "      <td>1012</td>\n",
       "      <td>73</td>\n",
       "      <td>1.00</td>\n",
       "      <td>20</td>\n",
       "      <td>Clouds</td>\n",
       "      <td>0.984808</td>\n",
       "      <td>0.173648</td>\n",
       "    </tr>\n",
       "    <tr>\n",
       "      <th>3</th>\n",
       "      <td>978318000</td>\n",
       "      <td>26.96</td>\n",
       "      <td>29.98</td>\n",
       "      <td>26.60</td>\n",
       "      <td>27.10</td>\n",
       "      <td>1012</td>\n",
       "      <td>66</td>\n",
       "      <td>1.00</td>\n",
       "      <td>20</td>\n",
       "      <td>Clouds</td>\n",
       "      <td>0.984808</td>\n",
       "      <td>0.173648</td>\n",
       "    </tr>\n",
       "    <tr>\n",
       "      <th>4</th>\n",
       "      <td>978321600</td>\n",
       "      <td>27.57</td>\n",
       "      <td>30.91</td>\n",
       "      <td>26.84</td>\n",
       "      <td>28.00</td>\n",
       "      <td>1011</td>\n",
       "      <td>65</td>\n",
       "      <td>0.78</td>\n",
       "      <td>20</td>\n",
       "      <td>Clouds</td>\n",
       "      <td>0.765669</td>\n",
       "      <td>-0.148831</td>\n",
       "    </tr>\n",
       "  </tbody>\n",
       "</table>\n",
       "</div>"
      ],
      "text/plain": [
       "          dt   temp  feels_like  temp_min  temp_max  pressure  humidity  \\\n",
       "0  978307200  21.87       25.26     21.40     23.09      1011        96   \n",
       "1  978310800  22.83       25.72     22.18     23.00      1012        83   \n",
       "2  978314400  26.13       29.56     26.00     26.49      1012        73   \n",
       "3  978318000  26.96       29.98     26.60     27.10      1012        66   \n",
       "4  978321600  27.57       30.91     26.84     28.00      1011        65   \n",
       "\n",
       "   wind_speed  clouds_all weather_main    wind_x    wind_y  \n",
       "0        1.28          20         Mist  1.150456  0.561115  \n",
       "1        1.00          20         Mist  0.984808 -0.173648  \n",
       "2        1.00          20       Clouds  0.984808  0.173648  \n",
       "3        1.00          20       Clouds  0.984808  0.173648  \n",
       "4        0.78          20       Clouds  0.765669 -0.148831  "
      ]
     },
     "execution_count": 9,
     "metadata": {},
     "output_type": "execute_result"
    }
   ],
   "source": [
    "from datetime import datetime as dt\n",
    "\n",
    "sub = 'cleaned'\n",
    "\n",
    "time_column_name = 'dt'\n",
    "custom_date_parser = lambda x: dt.strptime(x, \"%Y-%m-%d %H:%M:%S %Z\")\n",
    "\n",
    "df = pd.read_csv([s for s in csv_files if sub in s][0], parse_dates=[time_column_name])\n",
    "df = df.drop(columns=['Day sin', 'Day cos', 'Year sin', 'Year cos'])\n",
    "df.head(5)"
   ]
  },
  {
   "cell_type": "code",
   "execution_count": 10,
   "metadata": {},
   "outputs": [],
   "source": [
    "df.drop_duplicates(subset='dt', keep='first', inplace=True)\n",
    "df['dt'] = df['dt'].apply(lambda x: dt.fromtimestamp(int(x)))\n",
    "df.drop(columns=['temp_max', 'temp_min', 'weather_main'], inplace=True)"
   ]
  },
  {
   "cell_type": "code",
   "execution_count": 12,
   "metadata": {},
   "outputs": [],
   "source": [
    "n_test_periods = 200\n",
    "\n",
    "def split_data_by_series(df, n):\n",
    "    \n",
    "    n = n * 7 * 24 # Weekly -> Daily -> Hourly\n",
    "    df_head = df.apply(lambda dfg: dfg.iloc[:-n])\n",
    "    df_tail = df.apply(lambda dfg: dfg.iloc[-n:])\n",
    "\n",
    "    return df_head, df_tail\n",
    "\n",
    "train, test = split_data_by_series(df, n_test_periods)"
   ]
  },
  {
   "cell_type": "markdown",
   "metadata": {},
   "source": [
    "#### **Upload dataset to datastore**"
   ]
  },
  {
   "cell_type": "code",
   "execution_count": 13,
   "metadata": {},
   "outputs": [
    {
     "name": "stdout",
     "output_type": "stream",
     "text": [
      "Validating arguments.\n",
      "Arguments validated.\n",
      "Successfully obtained datastore reference and path.\n",
      "Uploading file to dataset//576d90ec-b2ea-48e8-8497-b2b8ec91441f/\n",
      "Successfully uploaded file to datastore.\n",
      "Creating and registering a new dataset.\n",
      "Successfully created and registered a new dataset.\n",
      "Validating arguments.\n",
      "Arguments validated.\n",
      "Successfully obtained datastore reference and path.\n",
      "Uploading file to dataset//bf1b1aa4-c41f-4929-a9fb-7a1024477ca0/\n",
      "Successfully uploaded file to datastore.\n",
      "Creating and registering a new dataset.\n",
      "Successfully created and registered a new dataset.\n"
     ]
    }
   ],
   "source": [
    "from azureml.data.dataset_factory import TabularDatasetFactory\n",
    "\n",
    "datastore = ws.get_default_datastore()\n",
    "train_dataset = TabularDatasetFactory.register_pandas_dataframe(\n",
    "    train, target=(datastore, \"dataset/\"), name=\"weather_train\"\n",
    ")\n",
    "test_dataset = TabularDatasetFactory.register_pandas_dataframe(\n",
    "    test, target=(datastore, \"dataset/\"), name=\"weather_test\"\n",
    ")"
   ]
  },
  {
   "cell_type": "code",
   "execution_count": 14,
   "metadata": {},
   "outputs": [
    {
     "data": {
      "text/html": [
       "<div>\n",
       "<style scoped>\n",
       "    .dataframe tbody tr th:only-of-type {\n",
       "        vertical-align: middle;\n",
       "    }\n",
       "\n",
       "    .dataframe tbody tr th {\n",
       "        vertical-align: top;\n",
       "    }\n",
       "\n",
       "    .dataframe thead th {\n",
       "        text-align: right;\n",
       "    }\n",
       "</style>\n",
       "<table border=\"1\" class=\"dataframe\">\n",
       "  <thead>\n",
       "    <tr style=\"text-align: right;\">\n",
       "      <th></th>\n",
       "      <th>dt</th>\n",
       "      <th>temp</th>\n",
       "      <th>feels_like</th>\n",
       "      <th>pressure</th>\n",
       "      <th>humidity</th>\n",
       "      <th>wind_speed</th>\n",
       "      <th>clouds_all</th>\n",
       "      <th>wind_x</th>\n",
       "      <th>wind_y</th>\n",
       "    </tr>\n",
       "  </thead>\n",
       "  <tbody>\n",
       "    <tr>\n",
       "      <th>145819</th>\n",
       "      <td>2017-08-21 02:00:00</td>\n",
       "      <td>25.21</td>\n",
       "      <td>30.78</td>\n",
       "      <td>1007</td>\n",
       "      <td>94</td>\n",
       "      <td>0.5</td>\n",
       "      <td>40</td>\n",
       "      <td>0.50</td>\n",
       "      <td>0.000000</td>\n",
       "    </tr>\n",
       "    <tr>\n",
       "      <th>145820</th>\n",
       "      <td>2017-08-21 03:00:00</td>\n",
       "      <td>25.19</td>\n",
       "      <td>29.63</td>\n",
       "      <td>1007</td>\n",
       "      <td>94</td>\n",
       "      <td>2.1</td>\n",
       "      <td>40</td>\n",
       "      <td>-1.05</td>\n",
       "      <td>-1.818653</td>\n",
       "    </tr>\n",
       "    <tr>\n",
       "      <th>145821</th>\n",
       "      <td>2017-08-21 04:00:00</td>\n",
       "      <td>25.20</td>\n",
       "      <td>30.41</td>\n",
       "      <td>1007</td>\n",
       "      <td>94</td>\n",
       "      <td>1.0</td>\n",
       "      <td>40</td>\n",
       "      <td>1.00</td>\n",
       "      <td>0.000000</td>\n",
       "    </tr>\n",
       "    <tr>\n",
       "      <th>145822</th>\n",
       "      <td>2017-08-21 05:00:00</td>\n",
       "      <td>25.29</td>\n",
       "      <td>30.56</td>\n",
       "      <td>1007</td>\n",
       "      <td>94</td>\n",
       "      <td>1.0</td>\n",
       "      <td>40</td>\n",
       "      <td>1.00</td>\n",
       "      <td>0.000000</td>\n",
       "    </tr>\n",
       "    <tr>\n",
       "      <th>145823</th>\n",
       "      <td>2017-08-21 06:00:00</td>\n",
       "      <td>25.20</td>\n",
       "      <td>30.06</td>\n",
       "      <td>1007</td>\n",
       "      <td>94</td>\n",
       "      <td>1.5</td>\n",
       "      <td>40</td>\n",
       "      <td>-0.75</td>\n",
       "      <td>-1.299038</td>\n",
       "    </tr>\n",
       "  </tbody>\n",
       "</table>\n",
       "</div>"
      ],
      "text/plain": [
       "                        dt   temp  feels_like  pressure  humidity  wind_speed  \\\n",
       "145819 2017-08-21 02:00:00  25.21       30.78      1007        94         0.5   \n",
       "145820 2017-08-21 03:00:00  25.19       29.63      1007        94         2.1   \n",
       "145821 2017-08-21 04:00:00  25.20       30.41      1007        94         1.0   \n",
       "145822 2017-08-21 05:00:00  25.29       30.56      1007        94         1.0   \n",
       "145823 2017-08-21 06:00:00  25.20       30.06      1007        94         1.5   \n",
       "\n",
       "        clouds_all  wind_x    wind_y  \n",
       "145819          40    0.50  0.000000  \n",
       "145820          40   -1.05 -1.818653  \n",
       "145821          40    1.00  0.000000  \n",
       "145822          40    1.00  0.000000  \n",
       "145823          40   -0.75 -1.299038  "
      ]
     },
     "execution_count": 14,
     "metadata": {},
     "output_type": "execute_result"
    }
   ],
   "source": [
    "train_dataset.to_pandas_dataframe().tail()"
   ]
  },
  {
   "cell_type": "markdown",
   "metadata": {},
   "source": [
    "#### **Modeling**"
   ]
  },
  {
   "cell_type": "code",
   "execution_count": 27,
   "metadata": {},
   "outputs": [],
   "source": [
    "target_column_name = 'temp'"
   ]
  },
  {
   "cell_type": "code",
   "execution_count": 26,
   "metadata": {},
   "outputs": [],
   "source": [
    "featurization_config = FeaturizationConfig()\n",
    "# Force the pressure feature to be numeric type.\n",
    "# Fill missing values in the target column, temp, with zeros.\n",
    "featurization_config.add_transformer_params(\n",
    "    \"Imputer\", [\"temp\"], {\"strategy\": \"constant\", \"fill_value\": 0}\n",
    ")\n",
    "featurization_config.add_transformer_params(\n",
    "    \"Imputer\", [\"pressure\"], {\"strategy\": \"median\"}\n",
    ")\n",
    "featurization_config.add_transformer_params(\n",
    "    \"Imputer\", [\"humidity\"], {\"strategy\": \"median\"}\n",
    ")\n",
    "featurization_config.add_transformer_params(\n",
    "    \"Imputer\", [\"clouds_all\"], {\"strategy\": \"mode\"}\n",
    ")"
   ]
  },
  {
   "cell_type": "markdown",
   "metadata": {},
   "source": [
    "#### **Train**"
   ]
  },
  {
   "cell_type": "code",
   "execution_count": 29,
   "metadata": {},
   "outputs": [],
   "source": [
    "from azureml.automl.core.forecasting_parameters import ForecastingParameters\n",
    "\n",
    "forecasting_parameters = ForecastingParameters(\n",
    "    time_column_name=time_column_name,\n",
    "    forecast_horizon=n_test_periods,\n",
    "    freq=\"H\",  # Set the forecast frequency to be hourly\n",
    ")\n",
    "\n",
    "automl_config = AutoMLConfig(\n",
    "    task=\"forecasting\",\n",
    "    enable_dnn=True,\n",
    "    debug_log=\"automl_weather_forecast.log\",\n",
    "    primary_metric=\"normalized_mean_absolute_error\",\n",
    "    experiment_timeout_minutes=60,\n",
    "    training_data=train_dataset,\n",
    "    label_column_name=target_column_name,\n",
    "    compute_target=compute_target,\n",
    "    enable_early_stopping=True,\n",
    "    featurization=featurization_config,\n",
    "    n_cross_validations=5,\n",
    "    verbosity=logging.INFO,\n",
    "    blocked_models=['ExponentialSmoothing'],\n",
    "    max_concurrent_iterations=6,\n",
    "    max_cores_per_iteration=-1,\n",
    "    forecasting_parameters=forecasting_parameters,\n",
    ")"
   ]
  },
  {
   "cell_type": "code",
   "execution_count": 30,
   "metadata": {},
   "outputs": [
    {
     "name": "stderr",
     "output_type": "stream",
     "text": [
      "WARNING:root:Forecasting task only supports simple imputation with following strategies: constant, ffill, mean, median, most_frequent. All other imputation settings will be ignored.\n"
     ]
    },
    {
     "name": "stdout",
     "output_type": "stream",
     "text": [
      "Submitting remote run.\n"
     ]
    },
    {
     "data": {
      "text/html": [
       "<table style=\"width:100%\"><tr><th>Experiment</th><th>Id</th><th>Type</th><th>Status</th><th>Details Page</th><th>Docs Page</th></tr><tr><td>automl-weather-forecasting</td><td>AutoML_55108467-65f3-47e7-b43d-5b6545c4dc52</td><td>automl</td><td>NotStarted</td><td><a href=\"https://ml.azure.com/runs/AutoML_55108467-65f3-47e7-b43d-5b6545c4dc52?wsid=/subscriptions/8791d321-d956-4566-8a38-238c7aab2ebd/resourcegroups/ml-study/workspaces/ml-study-tien&amp;tid=6a6116bd-0426-4b96-8bd9-bf54bd58bd86\" target=\"_blank\" rel=\"noopener\">Link to Azure Machine Learning studio</a></td><td><a href=\"https://docs.microsoft.com/en-us/python/api/overview/azure/ml/intro?view=azure-ml-py\" target=\"_blank\" rel=\"noopener\">Link to Documentation</a></td></tr></table>"
      ],
      "text/plain": [
       "<IPython.core.display.HTML object>"
      ]
     },
     "metadata": {},
     "output_type": "display_data"
    }
   ],
   "source": [
    "remote_run = experiment.submit(automl_config, show_output=True)"
   ]
  },
  {
   "cell_type": "code",
   "execution_count": 31,
   "metadata": {},
   "outputs": [
    {
     "name": "stderr",
     "output_type": "stream",
     "text": [
      "WARNING:urllib3.connectionpool:Retrying (Retry(total=2, connect=3, read=2, redirect=None, status=None)) after connection broken by 'ProtocolError('Connection aborted.', ConnectionResetError(10054, 'An existing connection was forcibly closed by the remote host', None, 10054, None))': /history/v1.0/subscriptions/8791d321-d956-4566-8a38-238c7aab2ebd/resourceGroups/ml-study/providers/Microsoft.MachineLearningServices/workspaces/ml-study-tien/experimentids/ab8e3f9a-c207-4788-a3c5-d543194196b4/runs/AutoML_55108467-65f3-47e7-b43d-5b6545c4dc52\n"
     ]
    },
    {
     "data": {
      "text/plain": [
       "{'runId': 'AutoML_55108467-65f3-47e7-b43d-5b6545c4dc52',\n",
       " 'target': 'weather-cluster',\n",
       " 'status': 'Completed',\n",
       " 'startTimeUtc': '2022-03-31T12:21:48.791883Z',\n",
       " 'endTimeUtc': '2022-03-31T13:33:27.137382Z',\n",
       " 'services': {},\n",
       " 'warnings': [{'source': 'JasmineService',\n",
       "   'message': 'Experiment timeout reached, hence experiment stopped. Current experiment timeout: 1 hour(s) 0 minute(s)'}],\n",
       " 'properties': {'num_iterations': '1000',\n",
       "  'training_type': 'TrainFull',\n",
       "  'acquisition_function': 'EI',\n",
       "  'primary_metric': 'normalized_mean_absolute_error',\n",
       "  'train_split': '0',\n",
       "  'acquisition_parameter': '0',\n",
       "  'num_cross_validation': '5',\n",
       "  'target': 'weather-cluster',\n",
       "  'AMLSettingsJsonString': '{\"path\":null,\"name\":\"automl-weather-forecasting\",\"subscription_id\":\"8791d321-d956-4566-8a38-238c7aab2ebd\",\"resource_group\":\"ml-study\",\"workspace_name\":\"ml-study-tien\",\"region\":\"eastus2\",\"compute_target\":\"weather-cluster\",\"spark_service\":null,\"azure_service\":\"remote\",\"many_models\":false,\"pipeline_fetch_max_batch_size\":1,\"enable_batch_run\":true,\"enable_run_restructure\":false,\"start_auxiliary_runs_before_parent_complete\":false,\"enable_code_generation\":false,\"iterations\":1000,\"primary_metric\":\"normalized_mean_absolute_error\",\"task_type\":\"regression\",\"positive_label\":null,\"data_script\":null,\"test_size\":0.0,\"test_include_predictions_only\":false,\"validation_size\":0.0,\"n_cross_validations\":5,\"y_min\":null,\"y_max\":null,\"num_classes\":null,\"featurization\":{\"_blocked_transformers\":null,\"_column_purposes\":null,\"_transformer_params\":{\"Imputer\":[[[\"temp\"],{\"strategy\":\"constant\",\"fill_value\":0}],[[\"pressure\"],{\"strategy\":\"median\"}],[[\"humidity\"],{\"strategy\":\"median\"}],[[\"clouds_all\"],{\"strategy\":\"mode\"}]]},\"_dataset_language\":null,\"_drop_columns\":null,\"_prediction_transform_type\":null},\"_ignore_package_version_incompatibilities\":false,\"is_timeseries\":true,\"max_cores_per_iteration\":-1,\"max_concurrent_iterations\":6,\"iteration_timeout_minutes\":null,\"mem_in_mb\":null,\"enforce_time_on_windows\":true,\"experiment_timeout_minutes\":60,\"experiment_exit_score\":null,\"partition_column_names\":null,\"whitelist_models\":null,\"blacklist_algos\":[\"ExponentialSmoothing\",\"TensorFlowDNN\",\"TensorFlowLinearRegressor\"],\"supported_models\":[\"SeasonalNaive\",\"Naive\",\"TensorFlowDNN\",\"TCNForecaster\",\"TensorFlowLinearRegressor\",\"Prophet\",\"GradientBoosting\",\"TabnetRegressor\",\"Average\",\"ExponentialSmoothing\",\"ElasticNet\",\"Arimax\",\"ExtremeRandomTrees\",\"DecisionTree\",\"AutoArima\",\"KNN\",\"LightGBM\",\"SGD\",\"SeasonalAverage\",\"RandomForest\",\"XGBoostRegressor\",\"LassoLars\"],\"private_models\":[],\"auto_blacklist\":true,\"blacklist_samples_reached\":false,\"exclude_nan_labels\":true,\"verbosity\":20,\"_debug_log\":\"azureml_automl.log\",\"show_warnings\":false,\"model_explainability\":true,\"service_url\":null,\"sdk_url\":null,\"sdk_packages\":null,\"enable_onnx_compatible_models\":false,\"enable_split_onnx_featurizer_estimator_models\":false,\"vm_type\":\"STANDARD_DS3_V2\",\"telemetry_verbosity\":20,\"send_telemetry\":true,\"enable_dnn\":true,\"scenario\":\"SDK-1.13.0\",\"environment_label\":null,\"save_mlflow\":false,\"enable_categorical_indicators\":false,\"force_text_dnn\":false,\"enable_feature_sweeping\":false,\"time_column_name\":\"dt\",\"grain_column_names\":null,\"drop_column_names\":[],\"max_horizon\":200,\"dropna\":false,\"overwrite_columns\":true,\"transform_dictionary\":{\"min\":\"_automl_target_col\",\"max\":\"_automl_target_col\",\"mean\":\"_automl_target_col\"},\"window_size\":null,\"country_or_region\":null,\"lags\":null,\"feature_lags\":null,\"seasonality\":\"auto\",\"use_stl\":null,\"short_series_handling\":true,\"freq\":\"H\",\"short_series_handling_configuration\":\"auto\",\"target_aggregation_function\":null,\"cv_step_size\":null,\"enable_early_stopping\":true,\"early_stopping_n_iters\":10,\"arguments\":null,\"dataset_id\":\"b8503160-a632-4bdf-a67a-e41d21d87fca\",\"hyperdrive_config\":null,\"validation_dataset_id\":null,\"run_source\":null,\"metrics\":null,\"enable_metric_confidence\":false,\"enable_ensembling\":true,\"enable_stack_ensembling\":false,\"ensemble_iterations\":15,\"enable_tf\":false,\"enable_subsampling\":false,\"subsample_seed\":null,\"enable_nimbusml\":false,\"enable_streaming\":false,\"force_streaming\":false,\"track_child_runs\":true,\"allowed_private_models\":[],\"label_column_name\":\"temp\",\"weight_column_name\":null,\"cv_split_column_names\":null,\"enable_local_managed\":false,\"_local_managed_run_id\":null,\"cost_mode\":1,\"lag_length\":0,\"metric_operation\":\"minimize\",\"preprocess\":true}',\n",
       "  'DataPrepJsonString': '{\\\\\"training_data\\\\\": {\\\\\"datasetId\\\\\": \\\\\"b8503160-a632-4bdf-a67a-e41d21d87fca\\\\\"}, \\\\\"datasets\\\\\": 0}',\n",
       "  'EnableSubsampling': 'False',\n",
       "  'runTemplate': 'AutoML',\n",
       "  'azureml.runsource': 'automl',\n",
       "  'display_task_type': 'forecasting',\n",
       "  'dependencies_versions': '{\"azureml-widgets\": \"1.39.0\", \"azureml-train-restclients-hyperdrive\": \"1.39.0\", \"azureml-train-core\": \"1.39.0\", \"azureml-train-automl-client\": \"1.39.0\", \"azureml-telemetry\": \"1.39.0\", \"azureml-sdk\": \"1.39.0\", \"azureml-pipeline\": \"1.39.0\", \"azureml-pipeline-steps\": \"1.39.0\", \"azureml-pipeline-core\": \"1.39.0\", \"azureml-dataset-runtime\": \"1.39.0\", \"azureml-dataprep\": \"2.27.1\", \"azureml-dataprep-rslex\": \"2.3.1\", \"azureml-dataprep-native\": \"38.0.0\", \"azureml-core\": \"1.39.0\", \"azureml-automl-core\": \"1.39.0\", \"azureml-training-tabular\": \"1.39.1\", \"azureml-automl-runtime\": \"1.39.1\"}',\n",
       "  '_aml_system_scenario_identification': 'Remote.Parent',\n",
       "  'ClientType': 'SDK',\n",
       "  'environment_cpu_name': 'AzureML-AutoML-DNN',\n",
       "  'environment_cpu_label': 'prod',\n",
       "  'environment_gpu_name': 'AzureML-AutoML-DNN-GPU',\n",
       "  'environment_gpu_label': 'prod',\n",
       "  'root_attribution': 'automl',\n",
       "  'attribution': 'AutoML',\n",
       "  'Orchestrator': 'AutoML',\n",
       "  'CancelUri': 'https://eastus2.api.azureml.ms/jasmine/v1.0/subscriptions/8791d321-d956-4566-8a38-238c7aab2ebd/resourceGroups/ml-study/providers/Microsoft.MachineLearningServices/workspaces/ml-study-tien/experimentids/ab8e3f9a-c207-4788-a3c5-d543194196b4/cancel/AutoML_55108467-65f3-47e7-b43d-5b6545c4dc52',\n",
       "  'azureml.git.repository_uri': 'https://github.com/anhtien228/azure_weather_forecaster.git',\n",
       "  'mlflow.source.git.repoURL': 'https://github.com/anhtien228/azure_weather_forecaster.git',\n",
       "  'azureml.git.branch': 'main',\n",
       "  'mlflow.source.git.branch': 'main',\n",
       "  'azureml.git.commit': '0735346c991d9875a688b077404585489a0d0852',\n",
       "  'mlflow.source.git.commit': '0735346c991d9875a688b077404585489a0d0852',\n",
       "  'azureml.git.dirty': 'True',\n",
       "  'ClientSdkVersion': '1.39.1',\n",
       "  'snapshotId': '00000000-0000-0000-0000-000000000000',\n",
       "  'SetupRunId': 'AutoML_55108467-65f3-47e7-b43d-5b6545c4dc52_setup',\n",
       "  'SetupRunContainerId': 'dcid.AutoML_55108467-65f3-47e7-b43d-5b6545c4dc52_setup',\n",
       "  'forecasting_target_lags': '[0]',\n",
       "  'forecasting_target_rolling_window_size': '0',\n",
       "  'forecasting_max_horizon': '200',\n",
       "  'forecasting_freq': 'H',\n",
       "  'ProblemInfoJsonString': '{\"dataset_num_categorical\": 0, \"is_sparse\": false, \"subsampling\": false, \"has_extra_col\": true, \"dataset_classes\": 1766, \"dataset_features\": 26, \"dataset_samples\": 145824, \"single_frequency_class_detected\": false, \"series_column_count\": 1, \"series_count\": 1, \"series_len_min\": 145824, \"series_len_max\": 145824, \"series_len_avg\": 145824.0, \"series_len_perc_25\": 145824.0, \"series_len_perc_50\": 145824.0, \"series_len_perc_75\": 145824.0}',\n",
       "  'ModelExplainRunId': 'AutoML_55108467-65f3-47e7-b43d-5b6545c4dc52_ModelExplain'},\n",
       " 'inputDatasets': [{'dataset': {'id': 'b8503160-a632-4bdf-a67a-e41d21d87fca'}, 'consumptionDetails': {'type': 'RunInput', 'inputName': 'training_data', 'mechanism': 'Direct'}}],\n",
       " 'outputDatasets': [],\n",
       " 'logFiles': {},\n",
       " 'submittedBy': 'Anh Tien Doan'}"
      ]
     },
     "execution_count": 31,
     "metadata": {},
     "output_type": "execute_result"
    }
   ],
   "source": [
    "remote_run.wait_for_completion()"
   ]
  },
  {
   "cell_type": "code",
   "execution_count": 32,
   "metadata": {},
   "outputs": [
    {
     "data": {
      "application/vnd.jupyter.widget-view+json": {
       "model_id": "36933bfe876c4c67bf658061aeed082e",
       "version_major": 2,
       "version_minor": 0
      },
      "text/plain": [
       "_AutoMLWidget(widget_settings={'childWidgetDisplay': 'popup', 'send_telemetry': False, 'log_level': 'INFO', 's…"
      ]
     },
     "metadata": {},
     "output_type": "display_data"
    },
    {
     "data": {
      "application/aml.mini.widget.v1": "{\"status\": \"Completed\", \"workbench_run_details_uri\": \"https://ml.azure.com/runs/AutoML_55108467-65f3-47e7-b43d-5b6545c4dc52?wsid=/subscriptions/8791d321-d956-4566-8a38-238c7aab2ebd/resourcegroups/ml-study/workspaces/ml-study-tien&tid=6a6116bd-0426-4b96-8bd9-bf54bd58bd86\", \"run_id\": \"AutoML_55108467-65f3-47e7-b43d-5b6545c4dc52\", \"run_properties\": {\"run_id\": \"AutoML_55108467-65f3-47e7-b43d-5b6545c4dc52\", \"created_utc\": \"2022-03-31T12:21:27.832625Z\", \"properties\": {\"num_iterations\": \"1000\", \"training_type\": \"TrainFull\", \"acquisition_function\": \"EI\", \"primary_metric\": \"normalized_mean_absolute_error\", \"train_split\": \"0\", \"acquisition_parameter\": \"0\", \"num_cross_validation\": \"5\", \"target\": \"weather-cluster\", \"AMLSettingsJsonString\": \"{\\\"path\\\":null,\\\"name\\\":\\\"automl-weather-forecasting\\\",\\\"subscription_id\\\":\\\"8791d321-d956-4566-8a38-238c7aab2ebd\\\",\\\"resource_group\\\":\\\"ml-study\\\",\\\"workspace_name\\\":\\\"ml-study-tien\\\",\\\"region\\\":\\\"eastus2\\\",\\\"compute_target\\\":\\\"weather-cluster\\\",\\\"spark_service\\\":null,\\\"azure_service\\\":\\\"remote\\\",\\\"many_models\\\":false,\\\"pipeline_fetch_max_batch_size\\\":1,\\\"enable_batch_run\\\":true,\\\"enable_run_restructure\\\":false,\\\"start_auxiliary_runs_before_parent_complete\\\":false,\\\"enable_code_generation\\\":false,\\\"iterations\\\":1000,\\\"primary_metric\\\":\\\"normalized_mean_absolute_error\\\",\\\"task_type\\\":\\\"regression\\\",\\\"positive_label\\\":null,\\\"data_script\\\":null,\\\"test_size\\\":0.0,\\\"test_include_predictions_only\\\":false,\\\"validation_size\\\":0.0,\\\"n_cross_validations\\\":5,\\\"y_min\\\":null,\\\"y_max\\\":null,\\\"num_classes\\\":null,\\\"featurization\\\":{\\\"_blocked_transformers\\\":null,\\\"_column_purposes\\\":null,\\\"_transformer_params\\\":{\\\"Imputer\\\":[[[\\\"temp\\\"],{\\\"strategy\\\":\\\"constant\\\",\\\"fill_value\\\":0}],[[\\\"pressure\\\"],{\\\"strategy\\\":\\\"median\\\"}],[[\\\"humidity\\\"],{\\\"strategy\\\":\\\"median\\\"}],[[\\\"clouds_all\\\"],{\\\"strategy\\\":\\\"mode\\\"}]]},\\\"_dataset_language\\\":null,\\\"_drop_columns\\\":null,\\\"_prediction_transform_type\\\":null},\\\"_ignore_package_version_incompatibilities\\\":false,\\\"is_timeseries\\\":true,\\\"max_cores_per_iteration\\\":-1,\\\"max_concurrent_iterations\\\":6,\\\"iteration_timeout_minutes\\\":null,\\\"mem_in_mb\\\":null,\\\"enforce_time_on_windows\\\":true,\\\"experiment_timeout_minutes\\\":60,\\\"experiment_exit_score\\\":null,\\\"partition_column_names\\\":null,\\\"whitelist_models\\\":null,\\\"blacklist_algos\\\":[\\\"ExponentialSmoothing\\\",\\\"TensorFlowDNN\\\",\\\"TensorFlowLinearRegressor\\\"],\\\"supported_models\\\":[\\\"SeasonalNaive\\\",\\\"Naive\\\",\\\"TensorFlowDNN\\\",\\\"TCNForecaster\\\",\\\"TensorFlowLinearRegressor\\\",\\\"Prophet\\\",\\\"GradientBoosting\\\",\\\"TabnetRegressor\\\",\\\"Average\\\",\\\"ExponentialSmoothing\\\",\\\"ElasticNet\\\",\\\"Arimax\\\",\\\"ExtremeRandomTrees\\\",\\\"DecisionTree\\\",\\\"AutoArima\\\",\\\"KNN\\\",\\\"LightGBM\\\",\\\"SGD\\\",\\\"SeasonalAverage\\\",\\\"RandomForest\\\",\\\"XGBoostRegressor\\\",\\\"LassoLars\\\"],\\\"private_models\\\":[],\\\"auto_blacklist\\\":true,\\\"blacklist_samples_reached\\\":false,\\\"exclude_nan_labels\\\":true,\\\"verbosity\\\":20,\\\"_debug_log\\\":\\\"azureml_automl.log\\\",\\\"show_warnings\\\":false,\\\"model_explainability\\\":true,\\\"service_url\\\":null,\\\"sdk_url\\\":null,\\\"sdk_packages\\\":null,\\\"enable_onnx_compatible_models\\\":false,\\\"enable_split_onnx_featurizer_estimator_models\\\":false,\\\"vm_type\\\":\\\"STANDARD_DS3_V2\\\",\\\"telemetry_verbosity\\\":20,\\\"send_telemetry\\\":true,\\\"enable_dnn\\\":true,\\\"scenario\\\":\\\"SDK-1.13.0\\\",\\\"environment_label\\\":null,\\\"save_mlflow\\\":false,\\\"enable_categorical_indicators\\\":false,\\\"force_text_dnn\\\":false,\\\"enable_feature_sweeping\\\":false,\\\"time_column_name\\\":\\\"dt\\\",\\\"grain_column_names\\\":null,\\\"drop_column_names\\\":[],\\\"max_horizon\\\":200,\\\"dropna\\\":false,\\\"overwrite_columns\\\":true,\\\"transform_dictionary\\\":{\\\"min\\\":\\\"_automl_target_col\\\",\\\"max\\\":\\\"_automl_target_col\\\",\\\"mean\\\":\\\"_automl_target_col\\\"},\\\"window_size\\\":null,\\\"country_or_region\\\":null,\\\"lags\\\":null,\\\"feature_lags\\\":null,\\\"seasonality\\\":\\\"auto\\\",\\\"use_stl\\\":null,\\\"short_series_handling\\\":true,\\\"freq\\\":\\\"H\\\",\\\"short_series_handling_configuration\\\":\\\"auto\\\",\\\"target_aggregation_function\\\":null,\\\"cv_step_size\\\":null,\\\"enable_early_stopping\\\":true,\\\"early_stopping_n_iters\\\":10,\\\"arguments\\\":null,\\\"dataset_id\\\":\\\"b8503160-a632-4bdf-a67a-e41d21d87fca\\\",\\\"hyperdrive_config\\\":null,\\\"validation_dataset_id\\\":null,\\\"run_source\\\":null,\\\"metrics\\\":null,\\\"enable_metric_confidence\\\":false,\\\"enable_ensembling\\\":true,\\\"enable_stack_ensembling\\\":false,\\\"ensemble_iterations\\\":15,\\\"enable_tf\\\":false,\\\"enable_subsampling\\\":false,\\\"subsample_seed\\\":null,\\\"enable_nimbusml\\\":false,\\\"enable_streaming\\\":false,\\\"force_streaming\\\":false,\\\"track_child_runs\\\":true,\\\"allowed_private_models\\\":[],\\\"label_column_name\\\":\\\"temp\\\",\\\"weight_column_name\\\":null,\\\"cv_split_column_names\\\":null,\\\"enable_local_managed\\\":false,\\\"_local_managed_run_id\\\":null,\\\"cost_mode\\\":1,\\\"lag_length\\\":0,\\\"metric_operation\\\":\\\"minimize\\\",\\\"preprocess\\\":true}\", \"DataPrepJsonString\": \"{\\\\\\\"training_data\\\\\\\": {\\\\\\\"datasetId\\\\\\\": \\\\\\\"b8503160-a632-4bdf-a67a-e41d21d87fca\\\\\\\"}, \\\\\\\"datasets\\\\\\\": 0}\", \"EnableSubsampling\": \"False\", \"runTemplate\": \"AutoML\", \"azureml.runsource\": \"automl\", \"display_task_type\": \"forecasting\", \"dependencies_versions\": \"{\\\"azureml-widgets\\\": \\\"1.39.0\\\", \\\"azureml-train-restclients-hyperdrive\\\": \\\"1.39.0\\\", \\\"azureml-train-core\\\": \\\"1.39.0\\\", \\\"azureml-train-automl-client\\\": \\\"1.39.0\\\", \\\"azureml-telemetry\\\": \\\"1.39.0\\\", \\\"azureml-sdk\\\": \\\"1.39.0\\\", \\\"azureml-pipeline\\\": \\\"1.39.0\\\", \\\"azureml-pipeline-steps\\\": \\\"1.39.0\\\", \\\"azureml-pipeline-core\\\": \\\"1.39.0\\\", \\\"azureml-dataset-runtime\\\": \\\"1.39.0\\\", \\\"azureml-dataprep\\\": \\\"2.27.1\\\", \\\"azureml-dataprep-rslex\\\": \\\"2.3.1\\\", \\\"azureml-dataprep-native\\\": \\\"38.0.0\\\", \\\"azureml-core\\\": \\\"1.39.0\\\", \\\"azureml-automl-core\\\": \\\"1.39.0\\\", \\\"azureml-training-tabular\\\": \\\"1.39.1\\\", \\\"azureml-automl-runtime\\\": \\\"1.39.1\\\"}\", \"_aml_system_scenario_identification\": \"Remote.Parent\", \"ClientType\": \"SDK\", \"environment_cpu_name\": \"AzureML-AutoML-DNN\", \"environment_cpu_label\": \"prod\", \"environment_gpu_name\": \"AzureML-AutoML-DNN-GPU\", \"environment_gpu_label\": \"prod\", \"root_attribution\": \"automl\", \"attribution\": \"AutoML\", \"Orchestrator\": \"AutoML\", \"CancelUri\": \"https://eastus2.api.azureml.ms/jasmine/v1.0/subscriptions/8791d321-d956-4566-8a38-238c7aab2ebd/resourceGroups/ml-study/providers/Microsoft.MachineLearningServices/workspaces/ml-study-tien/experimentids/ab8e3f9a-c207-4788-a3c5-d543194196b4/cancel/AutoML_55108467-65f3-47e7-b43d-5b6545c4dc52\", \"azureml.git.repository_uri\": \"https://github.com/anhtien228/azure_weather_forecaster.git\", \"mlflow.source.git.repoURL\": \"https://github.com/anhtien228/azure_weather_forecaster.git\", \"azureml.git.branch\": \"main\", \"mlflow.source.git.branch\": \"main\", \"azureml.git.commit\": \"0735346c991d9875a688b077404585489a0d0852\", \"mlflow.source.git.commit\": \"0735346c991d9875a688b077404585489a0d0852\", \"azureml.git.dirty\": \"True\", \"ClientSdkVersion\": \"1.39.1\", \"snapshotId\": \"00000000-0000-0000-0000-000000000000\", \"SetupRunId\": \"AutoML_55108467-65f3-47e7-b43d-5b6545c4dc52_setup\", \"SetupRunContainerId\": \"dcid.AutoML_55108467-65f3-47e7-b43d-5b6545c4dc52_setup\", \"forecasting_target_lags\": \"[0]\", \"forecasting_target_rolling_window_size\": \"0\", \"forecasting_max_horizon\": \"200\", \"forecasting_freq\": \"H\", \"ProblemInfoJsonString\": \"{\\\"dataset_num_categorical\\\": 0, \\\"is_sparse\\\": false, \\\"subsampling\\\": false, \\\"has_extra_col\\\": true, \\\"dataset_classes\\\": 1766, \\\"dataset_features\\\": 26, \\\"dataset_samples\\\": 145824, \\\"single_frequency_class_detected\\\": false, \\\"series_column_count\\\": 1, \\\"series_count\\\": 1, \\\"series_len_min\\\": 145824, \\\"series_len_max\\\": 145824, \\\"series_len_avg\\\": 145824.0, \\\"series_len_perc_25\\\": 145824.0, \\\"series_len_perc_50\\\": 145824.0, \\\"series_len_perc_75\\\": 145824.0}\", \"ModelExplainRunId\": \"AutoML_55108467-65f3-47e7-b43d-5b6545c4dc52_ModelExplain\"}, \"tags\": {\"model_explain_run\": \"best_run\", \"_aml_system_automl_run_workspace_id\": \"6f441e0e-518f-4da8-bb53-eaa14465c85f\", \"_aml_system_azureml.automlComponent\": \"AutoML\", \"forecast\": \"\", \"weather\": \"\", \"automl\": \"\", \"pipeline_id\": \"\", \"score\": \"\", \"predicted_cost\": \"\", \"fit_time\": \"\", \"training_percent\": \"\", \"iteration\": \"\", \"run_preprocessor\": \"\", \"run_algorithm\": \"\", \"_aml_system_azureml.automl_early_exit_message\": \"Experiment timeout reached, hence experiment stopped. Current experiment timeout: 1 hour(s) 0 minute(s)\", \"automl_best_child_run_id\": \"AutoML_55108467-65f3-47e7-b43d-5b6545c4dc52_506\", \"model_explain_best_run_child_id\": \"AutoML_55108467-65f3-47e7-b43d-5b6545c4dc52_506\"}, \"end_time_utc\": \"2022-03-31T13:33:27.137382Z\", \"status\": \"Completed\", \"log_files\": {}, \"log_groups\": [], \"run_duration\": \"1:11:59\", \"run_number\": \"1648729287\", \"run_queued_details\": {\"status\": \"Completed\", \"details\": null}}, \"child_runs\": [{\"run_id\": \"AutoML_55108467-65f3-47e7-b43d-5b6545c4dc52_setup\", \"run_number\": 1648729307, \"metric\": null, \"status\": \"Completed\", \"run_type\": \"azureml.scriptrun\", \"training_percent\": null, \"start_time\": \"2022-03-31T12:23:51.105436Z\", \"end_time\": \"2022-03-31T12:24:36.316425Z\", \"created_time\": \"2022-03-31T12:21:47.92295Z\", \"created_time_dt\": \"2022-03-31T12:21:47.92295Z\", \"duration\": \"0:02:48\", \"iteration\": null, \"goal\": null, \"run_name\": \"Completed\", \"run_properties\": null}, {\"run_id\": \"AutoML_55108467-65f3-47e7-b43d-5b6545c4dc52_HD\", \"run_number\": 1648729477, \"metric\": null, \"status\": \"Failed\", \"run_type\": \"hyperdrive\", \"training_percent\": null, \"start_time\": \"2022-03-31T12:24:37.859981Z\", \"end_time\": \"2022-03-31T13:24:37.56056Z\", \"created_time\": \"2022-03-31T12:24:37.595214Z\", \"created_time_dt\": \"2022-03-31T12:24:37.595214Z\", \"duration\": \"0:59:59\", \"iteration\": \"0\", \"goal\": null, \"run_name\": \"Failed\", \"run_properties\": null}, {\"run_id\": \"AutoML_55108467-65f3-47e7-b43d-5b6545c4dc52_501\", \"run_number\": 1648729478, \"metric\": null, \"status\": \"Completed\", \"run_type\": \"azureml.scriptrun\", \"training_percent\": \"100\", \"start_time\": \"2022-03-31T12:52:45.778369Z\", \"end_time\": \"2022-03-31T12:54:13.884015Z\", \"created_time\": \"2022-03-31T12:24:38.967279Z\", \"created_time_dt\": \"2022-03-31T12:24:38.967279Z\", \"duration\": \"0:29:34\", \"iteration\": \"501\", \"goal\": \"normalized_mean_absolute_error_min\", \"run_name\": \"SeasonalNaive\", \"run_properties\": \"timeseries_param_dict={'time_column_name': 'dt', 'grain_column_names': None, 'drop_column_names': [], 'overwrite_columns': True, 'dropna': False, 'transform_dictionary': {'min': '_automl_target_col', 'max': '_automl_target_col', 'mean': '_automl_target_col'}, 'max_horizon': 200, 'origin_time_colname': 'origin', 'country_or_region': None, 'n_cross_validations': 5, 'short_series_handling': True, 'max_cores_per_iteration': -1, 'feature_lags': None, 'target_aggregation_function': None, 'cv_step_size': None, 'seasonality': 24, 'use_stl': None, 'freq': 'H', 'short_series_handling_configuration': 'auto', 'target_lags': [0], 'target_rolling_window_size': 0, 'arimax_raw_columns': ['wind_y', 'pressure', 'clouds_all', 'feels_like', 'dt', 'wind_speed', 'wind_x', 'humidity']}\", \"primary_metric\": 0.06052906, \"best_metric\": 0.06052906}, {\"run_id\": \"AutoML_55108467-65f3-47e7-b43d-5b6545c4dc52_506\", \"run_number\": 1648729479, \"metric\": null, \"status\": \"Completed\", \"run_type\": \"azureml.scriptrun\", \"training_percent\": \"100\", \"start_time\": \"2022-03-31T12:56:45.472828Z\", \"end_time\": \"2022-03-31T12:56:55.050635Z\", \"created_time\": \"2022-03-31T12:24:39.004631Z\", \"created_time_dt\": \"2022-03-31T12:24:39.004631Z\", \"duration\": \"0:32:16\", \"iteration\": \"506\", \"goal\": \"normalized_mean_absolute_error_min\", \"run_name\": \"StandardScalerWrapper, LightGBM\", \"run_properties\": \"copy=True, with_mean=False, with_std=False\", \"primary_metric\": 0.00308262, \"best_metric\": 0.00308262}, {\"run_id\": \"AutoML_55108467-65f3-47e7-b43d-5b6545c4dc52_520\", \"run_number\": 1648733080, \"metric\": null, \"status\": \"Completed\", \"run_type\": \"azureml.scriptrun\", \"training_percent\": \"100\", \"start_time\": \"2022-03-31T13:32:22.904918Z\", \"end_time\": \"2022-03-31T13:33:26.007335Z\", \"created_time\": \"2022-03-31T13:24:40.210066Z\", \"created_time_dt\": \"2022-03-31T13:24:40.210066Z\", \"duration\": \"0:08:45\", \"iteration\": \"520\", \"goal\": \"normalized_mean_absolute_error_min\", \"run_name\": \"VotingEnsemble\", \"run_properties\": \"estimators=[('506', Pipeline(memory=None, steps=[('standardscalerwrapper', StandardScalerWrapper(copy=True, with_mean=False, with_std=False\", \"primary_metric\": 0.00308262, \"best_metric\": 0.00308262}], \"children_metrics\": {\"categories\": [0], \"series\": {\"r2_score\": [{\"categories\": [\"501\", \"506\", \"520\"], \"mode\": \"markers\", \"name\": \"r2_score\", \"stepped\": false, \"type\": \"scatter\", \"data\": [0.3978091197767156, 0.9986253789410344, 0.9986253789410344]}, {\"categories\": [\"501\", \"506\", \"520\"], \"mode\": \"lines\", \"name\": \"r2_score_max\", \"stepped\": true, \"type\": \"scatter\", \"data\": [0.3978091197767156, 0.9986253789410344, 0.9986253789410344]}], \"normalized_root_mean_squared_error\": [{\"categories\": [\"501\", \"506\", \"520\"], \"mode\": \"markers\", \"name\": \"normalized_root_mean_squared_error\", \"stepped\": false, \"type\": \"scatter\", \"data\": [0.0800183240967928, 0.003824068056645326, 0.003824068056645326]}, {\"categories\": [\"501\", \"506\", \"520\"], \"mode\": \"lines\", \"name\": \"normalized_root_mean_squared_error_min\", \"stepped\": true, \"type\": \"scatter\", \"data\": [0.0800183240967928, 0.003824068056645326, 0.003824068056645326]}], \"normalized_mean_absolute_error\": [{\"categories\": [\"501\", \"506\", \"520\"], \"mode\": \"markers\", \"name\": \"normalized_mean_absolute_error\", \"stepped\": false, \"type\": \"scatter\", \"data\": [0.06052905811623247, 0.003082616546465208, 0.003082616546465208]}, {\"categories\": [\"501\", \"506\", \"520\"], \"mode\": \"lines\", \"name\": \"normalized_mean_absolute_error_min\", \"stepped\": true, \"type\": \"scatter\", \"data\": [0.06052905811623247, 0.003082616546465208, 0.003082616546465208]}], \"normalized_median_absolute_error\": [{\"categories\": [\"501\", \"506\", \"520\"], \"mode\": \"markers\", \"name\": \"normalized_median_absolute_error\", \"stepped\": false, \"type\": \"scatter\", \"data\": [0.04669338677354706, 0.0028609368642841387, 0.0028609368642841387]}, {\"categories\": [\"501\", \"506\", \"520\"], \"mode\": \"lines\", \"name\": \"normalized_median_absolute_error_min\", \"stepped\": true, \"type\": \"scatter\", \"data\": [0.04669338677354706, 0.0028609368642841387, 0.0028609368642841387]}], \"mean_absolute_percentage_error\": [{\"categories\": [\"501\", \"506\", \"520\"], \"mode\": \"markers\", \"name\": \"mean_absolute_percentage_error\", \"stepped\": false, \"type\": \"scatter\", \"data\": [4.381418878714135, 0.222209069299655, 0.222209069299655]}, {\"categories\": [\"501\", \"506\", \"520\"], \"mode\": \"lines\", \"name\": \"mean_absolute_percentage_error_min\", \"stepped\": true, \"type\": \"scatter\", \"data\": [4.381418878714135, 0.222209069299655, 0.222209069299655]}], \"root_mean_squared_log_error\": [{\"categories\": [\"501\", \"506\", \"520\"], \"mode\": \"markers\", \"name\": \"root_mean_squared_log_error\", \"stepped\": false, \"type\": \"scatter\", \"data\": [0.0539941551366004, 0.0026467057698993162, 0.0026467057698993162]}, {\"categories\": [\"501\", \"506\", \"520\"], \"mode\": \"lines\", \"name\": \"root_mean_squared_log_error_min\", \"stepped\": true, \"type\": \"scatter\", \"data\": [0.0539941551366004, 0.0026467057698993162, 0.0026467057698993162]}], \"explained_variance\": [{\"categories\": [\"501\", \"506\", \"520\"], \"mode\": \"markers\", \"name\": \"explained_variance\", \"stepped\": false, \"type\": \"scatter\", \"data\": [0.5090097127326573, 0.9986263778308933, 0.9986263778308933]}, {\"categories\": [\"501\", \"506\", \"520\"], \"mode\": \"lines\", \"name\": \"explained_variance_max\", \"stepped\": true, \"type\": \"scatter\", \"data\": [0.5090097127326573, 0.9986263778308933, 0.9986263778308933]}], \"mean_absolute_error\": [{\"categories\": [\"501\", \"506\", \"520\"], \"mode\": \"markers\", \"name\": \"mean_absolute_error\", \"stepped\": false, \"type\": \"scatter\", \"data\": [1.20816, 0.06152902626744554, 0.06152902626744554]}, {\"categories\": [\"501\", \"506\", \"520\"], \"mode\": \"lines\", \"name\": \"mean_absolute_error_min\", \"stepped\": true, \"type\": \"scatter\", \"data\": [1.20816, 0.06152902626744554, 0.06152902626744554]}], \"spearman_correlation\": [{\"categories\": [\"501\", \"506\", \"520\"], \"mode\": \"markers\", \"name\": \"spearman_correlation\", \"stepped\": false, \"type\": \"scatter\", \"data\": [0.7860645985134802, 0.9980581484956941, 0.9980581484956941]}, {\"categories\": [\"501\", \"506\", \"520\"], \"mode\": \"lines\", \"name\": \"spearman_correlation_max\", \"stepped\": true, \"type\": \"scatter\", \"data\": [0.7860645985134802, 0.9980581484956941, 0.9980581484956941]}], \"normalized_root_mean_squared_log_error\": [{\"categories\": [\"501\", \"506\", \"520\"], \"mode\": \"markers\", \"name\": \"normalized_root_mean_squared_log_error\", \"stepped\": false, \"type\": \"scatter\", \"data\": [0.07383438493423099, 0.0036192416036144362, 0.0036192416036144362]}, {\"categories\": [\"501\", \"506\", \"520\"], \"mode\": \"lines\", \"name\": \"normalized_root_mean_squared_log_error_min\", \"stepped\": true, \"type\": \"scatter\", \"data\": [0.07383438493423099, 0.0036192416036144362, 0.0036192416036144362]}], \"root_mean_squared_error\": [{\"categories\": [\"501\", \"506\", \"520\"], \"mode\": \"markers\", \"name\": \"root_mean_squared_error\", \"stepped\": false, \"type\": \"scatter\", \"data\": [1.597165748971984, 0.07632839841064068, 0.07632839841064068]}, {\"categories\": [\"501\", \"506\", \"520\"], \"mode\": \"lines\", \"name\": \"root_mean_squared_error_min\", \"stepped\": true, \"type\": \"scatter\", \"data\": [1.597165748971984, 0.07632839841064068, 0.07632839841064068]}], \"median_absolute_error\": [{\"categories\": [\"501\", \"506\", \"520\"], \"mode\": \"markers\", \"name\": \"median_absolute_error\", \"stepped\": false, \"type\": \"scatter\", \"data\": [0.9319999999999993, 0.057104299811111404, 0.057104299811111404]}, {\"categories\": [\"501\", \"506\", \"520\"], \"mode\": \"lines\", \"name\": \"median_absolute_error_min\", \"stepped\": true, \"type\": \"scatter\", \"data\": [0.9319999999999993, 0.057104299811111404, 0.057104299811111404]}]}, \"metricName\": null, \"primaryMetricName\": \"normalized_mean_absolute_error\", \"showLegend\": false}, \"run_metrics\": [{\"name\": \"experiment_status\", \"run_id\": \"AutoML_55108467-65f3-47e7-b43d-5b6545c4dc52\", \"categories\": [0, 1, 2, 3, 4, 5, 6, 7, 8, 9, 10, 11, 12, 13, 14, 15, 16, 17, 18, 19, 20, 21], \"series\": [{\"data\": [\"DatasetFeaturization\", \"DatasetFeaturizationCompleted\", \"DatasetCrossValidationSplit\", \"DatasetFeaturization\", \"DatasetFeaturizationCompleted\", \"DatasetFeaturization\", \"DatasetFeaturizationCompleted\", \"DatasetFeaturization\", \"DatasetFeaturizationCompleted\", \"DatasetFeaturization\", \"DatasetFeaturizationCompleted\", \"DatasetFeaturization\", \"DatasetFeaturizationCompleted\", \"ModelSelection\", \"BestRunExplainModel\", \"ModelExplanationDataSetSetup\", \"PickSurrogateModel\", \"EngineeredFeatureExplanations\", \"EngineeredFeatureExplanations\", \"RawFeaturesExplanations\", \"RawFeaturesExplanations\", \"BestRunExplainModel\"]}]}, {\"name\": \"experiment_status_description\", \"run_id\": \"AutoML_55108467-65f3-47e7-b43d-5b6545c4dc52\", \"categories\": [0, 1, 2, 3, 4, 5, 6, 7, 8, 9, 10, 11, 12, 13, 14, 15, 16, 17, 18, 19, 20, 21], \"series\": [{\"data\": [\"Beginning to featurize the dataset.\", \"Completed featurizing the dataset.\", \"Generating individually featurized CV splits.\", \"Beginning to featurize the CV split.\", \"Completed featurizing the CV split.\", \"Beginning to featurize the CV split.\", \"Completed featurizing the CV split.\", \"Beginning to featurize the CV split.\", \"Completed featurizing the CV split.\", \"Beginning to featurize the CV split.\", \"Completed featurizing the CV split.\", \"Beginning to featurize the CV split.\", \"Completed featurizing the CV split.\", \"Beginning model selection.\", \"Best run model explanations started\", \"Model explanations data setup completed\", \"Choosing LightGBM as the surrogate model for explanations\", \"Computation of engineered features started\", \"Computation of engineered features completed\", \"Computation of raw features started\", \"Computation of raw features completed\", \"Best run model explanations completed\"]}]}, {\"name\": \"mean_absolute_percentage_error\", \"run_id\": \"AutoML_55108467-65f3-47e7-b43d-5b6545c4dc52\", \"categories\": [0], \"series\": [{\"data\": [0.222209069299655]}]}, {\"name\": \"spearman_correlation\", \"run_id\": \"AutoML_55108467-65f3-47e7-b43d-5b6545c4dc52\", \"categories\": [0], \"series\": [{\"data\": [0.9980581484956941]}]}, {\"name\": \"explained_variance\", \"run_id\": \"AutoML_55108467-65f3-47e7-b43d-5b6545c4dc52\", \"categories\": [0], \"series\": [{\"data\": [0.9986263778308933]}]}, {\"name\": \"r2_score\", \"run_id\": \"AutoML_55108467-65f3-47e7-b43d-5b6545c4dc52\", \"categories\": [0], \"series\": [{\"data\": [0.9986253789410344]}]}, {\"name\": \"normalized_mean_absolute_error\", \"run_id\": \"AutoML_55108467-65f3-47e7-b43d-5b6545c4dc52\", \"categories\": [0], \"series\": [{\"data\": [0.003082616546465208]}]}, {\"name\": \"normalized_root_mean_squared_log_error\", \"run_id\": \"AutoML_55108467-65f3-47e7-b43d-5b6545c4dc52\", \"categories\": [0], \"series\": [{\"data\": [0.0036192416036144362]}]}, {\"name\": \"root_mean_squared_error\", \"run_id\": \"AutoML_55108467-65f3-47e7-b43d-5b6545c4dc52\", \"categories\": [0], \"series\": [{\"data\": [0.07632839841064068]}]}, {\"name\": \"normalized_median_absolute_error\", \"run_id\": \"AutoML_55108467-65f3-47e7-b43d-5b6545c4dc52\", \"categories\": [0], \"series\": [{\"data\": [0.0028609368642841387]}]}, {\"name\": \"median_absolute_error\", \"run_id\": \"AutoML_55108467-65f3-47e7-b43d-5b6545c4dc52\", \"categories\": [0], \"series\": [{\"data\": [0.057104299811111404]}]}, {\"name\": \"root_mean_squared_log_error\", \"run_id\": \"AutoML_55108467-65f3-47e7-b43d-5b6545c4dc52\", \"categories\": [0], \"series\": [{\"data\": [0.0026467057698993162]}]}, {\"name\": \"mean_absolute_error\", \"run_id\": \"AutoML_55108467-65f3-47e7-b43d-5b6545c4dc52\", \"categories\": [0], \"series\": [{\"data\": [0.06152902626744554]}]}, {\"name\": \"normalized_root_mean_squared_error\", \"run_id\": \"AutoML_55108467-65f3-47e7-b43d-5b6545c4dc52\", \"categories\": [0], \"series\": [{\"data\": [0.003824068056645326]}]}], \"run_logs\": \"\\nRun is completed.\", \"graph\": {}, \"widget_settings\": {\"childWidgetDisplay\": \"popup\", \"send_telemetry\": false, \"log_level\": \"INFO\", \"sdk_version\": \"1.39.0\"}, \"loading\": false}"
     },
     "metadata": {},
     "output_type": "display_data"
    }
   ],
   "source": [
    "from azureml.widgets import RunDetails\n",
    "\n",
    "RunDetails(remote_run).show()"
   ]
  },
  {
   "cell_type": "markdown",
   "metadata": {},
   "source": [
    "#### **Retrieve the best run results**"
   ]
  },
  {
   "cell_type": "code",
   "execution_count": 39,
   "metadata": {},
   "outputs": [
    {
     "name": "stderr",
     "output_type": "stream",
     "text": [
      "WARNING:root:Forecasting task only supports simple imputation with following strategies: constant, ffill, mean, median, most_frequent. All other imputation settings will be ignored.\n",
      "WARNING:root:Forecasting task only supports simple imputation with following strategies: constant, ffill, mean, median, most_frequent. All other imputation settings will be ignored.\n"
     ]
    },
    {
     "data": {
      "text/html": [
       "<table style=\"width:100%\"><tr><th>Experiment</th><th>Id</th><th>Type</th><th>Status</th><th>Details Page</th><th>Docs Page</th></tr><tr><td>automl-weather-forecasting</td><td>AutoML_55108467-65f3-47e7-b43d-5b6545c4dc52_506</td><td>azureml.scriptrun</td><td>Completed</td><td><a href=\"https://ml.azure.com/runs/AutoML_55108467-65f3-47e7-b43d-5b6545c4dc52_506?wsid=/subscriptions/8791d321-d956-4566-8a38-238c7aab2ebd/resourcegroups/ml-study/workspaces/ml-study-tien&amp;tid=6a6116bd-0426-4b96-8bd9-bf54bd58bd86\" target=\"_blank\" rel=\"noopener\">Link to Azure Machine Learning studio</a></td><td><a href=\"https://docs.microsoft.com/en-us/python/api/azureml-core/azureml.core.run.Run?view=azure-ml-py\" target=\"_blank\" rel=\"noopener\">Link to Documentation</a></td></tr></table>"
      ],
      "text/plain": [
       "Run(Experiment: automl-weather-forecasting,\n",
       "Id: AutoML_55108467-65f3-47e7-b43d-5b6545c4dc52_506,\n",
       "Type: azureml.scriptrun,\n",
       "Status: Completed)"
      ]
     },
     "execution_count": 39,
     "metadata": {},
     "output_type": "execute_result"
    }
   ],
   "source": [
    "best_run = remote_run.get_best_child()\n",
    "model_name = best_run.properties[\"model_name\"]\n",
    "best_run"
   ]
  },
  {
   "cell_type": "code",
   "execution_count": 41,
   "metadata": {},
   "outputs": [
    {
     "data": {
      "text/plain": [
       "{'r2_score': 0.9986253789410344,\n",
       " 'normalized_root_mean_squared_error': 0.003824068056645326,\n",
       " 'normalized_mean_absolute_error': 0.003082616546465208,\n",
       " 'normalized_median_absolute_error': 0.0028609368642841387,\n",
       " 'mean_absolute_percentage_error': 0.222209069299655,\n",
       " 'root_mean_squared_log_error': 0.0026467057698993162,\n",
       " 'explained_variance': 0.9986263778308933,\n",
       " 'mean_absolute_error': 0.06152902626744554,\n",
       " 'spearman_correlation': 0.9980581484956941,\n",
       " 'normalized_root_mean_squared_log_error': 0.0036192416036144362,\n",
       " 'root_mean_squared_error': 0.07632839841064068,\n",
       " 'median_absolute_error': 0.057104299811111404,\n",
       " 'predicted_true': 'aml://artifactId/ExperimentRun/dcid.AutoML_55108467-65f3-47e7-b43d-5b6545c4dc52_506/predicted_true',\n",
       " 'residuals': 'aml://artifactId/ExperimentRun/dcid.AutoML_55108467-65f3-47e7-b43d-5b6545c4dc52_506/residuals',\n",
       " 'forecast_train_table': 'aml://artifactId/ExperimentRun/dcid.AutoML_55108467-65f3-47e7-b43d-5b6545c4dc52_506/forecast_train_table',\n",
       " 'forecast_validate_table': 'aml://artifactId/ExperimentRun/dcid.AutoML_55108467-65f3-47e7-b43d-5b6545c4dc52_506/forecast_validate_table'}"
      ]
     },
     "execution_count": 41,
     "metadata": {},
     "output_type": "execute_result"
    }
   ],
   "source": [
    "best_run.get_metrics()"
   ]
  },
  {
   "cell_type": "markdown",
   "metadata": {},
   "source": [
    "#### **Featurization summary**"
   ]
  },
  {
   "cell_type": "code",
   "execution_count": 42,
   "metadata": {},
   "outputs": [
    {
     "data": {
      "text/html": [
       "<div>\n",
       "<style scoped>\n",
       "    .dataframe tbody tr th:only-of-type {\n",
       "        vertical-align: middle;\n",
       "    }\n",
       "\n",
       "    .dataframe tbody tr th {\n",
       "        vertical-align: top;\n",
       "    }\n",
       "\n",
       "    .dataframe thead th {\n",
       "        text-align: right;\n",
       "    }\n",
       "</style>\n",
       "<table border=\"1\" class=\"dataframe\">\n",
       "  <thead>\n",
       "    <tr style=\"text-align: right;\">\n",
       "      <th></th>\n",
       "      <th>RawFeatureName</th>\n",
       "      <th>TypeDetected</th>\n",
       "      <th>Dropped</th>\n",
       "      <th>EngineeredFeatureCount</th>\n",
       "      <th>Transformations</th>\n",
       "    </tr>\n",
       "  </thead>\n",
       "  <tbody>\n",
       "    <tr>\n",
       "      <th>0</th>\n",
       "      <td>feels_like</td>\n",
       "      <td>Numeric</td>\n",
       "      <td>No</td>\n",
       "      <td>2</td>\n",
       "      <td>[MedianImputer, ImputationMarker]</td>\n",
       "    </tr>\n",
       "    <tr>\n",
       "      <th>1</th>\n",
       "      <td>pressure</td>\n",
       "      <td>Numeric</td>\n",
       "      <td>No</td>\n",
       "      <td>2</td>\n",
       "      <td>[MedianImputer, ImputationMarker]</td>\n",
       "    </tr>\n",
       "    <tr>\n",
       "      <th>2</th>\n",
       "      <td>humidity</td>\n",
       "      <td>Numeric</td>\n",
       "      <td>No</td>\n",
       "      <td>2</td>\n",
       "      <td>[MedianImputer, ImputationMarker]</td>\n",
       "    </tr>\n",
       "    <tr>\n",
       "      <th>3</th>\n",
       "      <td>wind_speed</td>\n",
       "      <td>Numeric</td>\n",
       "      <td>No</td>\n",
       "      <td>2</td>\n",
       "      <td>[MedianImputer, ImputationMarker]</td>\n",
       "    </tr>\n",
       "    <tr>\n",
       "      <th>4</th>\n",
       "      <td>clouds_all</td>\n",
       "      <td>Numeric</td>\n",
       "      <td>No</td>\n",
       "      <td>2</td>\n",
       "      <td>[MedianImputer, ImputationMarker]</td>\n",
       "    </tr>\n",
       "    <tr>\n",
       "      <th>5</th>\n",
       "      <td>wind_x</td>\n",
       "      <td>Numeric</td>\n",
       "      <td>No</td>\n",
       "      <td>2</td>\n",
       "      <td>[MedianImputer, ImputationMarker]</td>\n",
       "    </tr>\n",
       "    <tr>\n",
       "      <th>6</th>\n",
       "      <td>wind_y</td>\n",
       "      <td>Numeric</td>\n",
       "      <td>No</td>\n",
       "      <td>2</td>\n",
       "      <td>[MedianImputer, ImputationMarker]</td>\n",
       "    </tr>\n",
       "    <tr>\n",
       "      <th>7</th>\n",
       "      <td>_automl_target_col</td>\n",
       "      <td>Numeric</td>\n",
       "      <td>No</td>\n",
       "      <td>1</td>\n",
       "      <td>[ImputationMarker]</td>\n",
       "    </tr>\n",
       "    <tr>\n",
       "      <th>8</th>\n",
       "      <td>dt</td>\n",
       "      <td>DateTime</td>\n",
       "      <td>No</td>\n",
       "      <td>11</td>\n",
       "      <td>[DateTimeTransformer]</td>\n",
       "    </tr>\n",
       "  </tbody>\n",
       "</table>\n",
       "</div>"
      ],
      "text/plain": [
       "       RawFeatureName TypeDetected Dropped  EngineeredFeatureCount  \\\n",
       "0          feels_like      Numeric      No                       2   \n",
       "1            pressure      Numeric      No                       2   \n",
       "2            humidity      Numeric      No                       2   \n",
       "3          wind_speed      Numeric      No                       2   \n",
       "4          clouds_all      Numeric      No                       2   \n",
       "5              wind_x      Numeric      No                       2   \n",
       "6              wind_y      Numeric      No                       2   \n",
       "7  _automl_target_col      Numeric      No                       1   \n",
       "8                  dt     DateTime      No                      11   \n",
       "\n",
       "                     Transformations  \n",
       "0  [MedianImputer, ImputationMarker]  \n",
       "1  [MedianImputer, ImputationMarker]  \n",
       "2  [MedianImputer, ImputationMarker]  \n",
       "3  [MedianImputer, ImputationMarker]  \n",
       "4  [MedianImputer, ImputationMarker]  \n",
       "5  [MedianImputer, ImputationMarker]  \n",
       "6  [MedianImputer, ImputationMarker]  \n",
       "7                 [ImputationMarker]  \n",
       "8              [DateTimeTransformer]  "
      ]
     },
     "execution_count": 42,
     "metadata": {},
     "output_type": "execute_result"
    }
   ],
   "source": [
    "best_run.download_file(\"outputs/featurization_summary.json\", \"featurization_summary.json\")\n",
    "\n",
    "with open(\"featurization_summary.json\", \"r\") as f:\n",
    "    records = json.load(f)\n",
    "\n",
    "fs = pd.DataFrame.from_records(records)\n",
    "fs[[\"RawFeatureName\", \"TypeDetected\", \"Dropped\", \"EngineeredFeatureCount\", \"Transformations\",]]"
   ]
  },
  {
   "cell_type": "markdown",
   "metadata": {},
   "source": [
    "#### **Inference**\n",
    "\n",
    "Evaluate the model's performance on the test dataset by using batch inference."
   ]
  },
  {
   "cell_type": "code",
   "execution_count": 43,
   "metadata": {},
   "outputs": [],
   "source": [
    "test_experiment = Experiment(ws, experiment_name + \"_inference\")"
   ]
  },
  {
   "cell_type": "markdown",
   "metadata": {},
   "source": [
    "#### **Retrieve forecast results**"
   ]
  },
  {
   "cell_type": "code",
   "execution_count": 65,
   "metadata": {},
   "outputs": [],
   "source": [
    "from run_forecast import run_remote_inference\n",
    "\n",
    "remote_run_infe = run_remote_inference(\n",
    "    test_experiment=test_experiment,\n",
    "    compute_target=compute_target,\n",
    "    train_run=best_run,\n",
    "    test_dataset=test_dataset,\n",
    "    target_column_name=target_column_name,\n",
    ")\n",
    "\n",
    "remote_run_infe.wait_for_completion(show_output=False)\n",
    "\n",
    "# Download the forecasted results to the local folders\n",
    "remote_run_infe.download_file(\"outputs/predictions.csv\", \"../data/predictions.csv\")"
   ]
  },
  {
   "cell_type": "markdown",
   "metadata": {},
   "source": [
    "#### **Evaluate**"
   ]
  },
  {
   "cell_type": "code",
   "execution_count": 66,
   "metadata": {},
   "outputs": [
    {
     "data": {
      "text/html": [
       "<div>\n",
       "<style scoped>\n",
       "    .dataframe tbody tr th:only-of-type {\n",
       "        vertical-align: middle;\n",
       "    }\n",
       "\n",
       "    .dataframe tbody tr th {\n",
       "        vertical-align: top;\n",
       "    }\n",
       "\n",
       "    .dataframe thead th {\n",
       "        text-align: right;\n",
       "    }\n",
       "</style>\n",
       "<table border=\"1\" class=\"dataframe\">\n",
       "  <thead>\n",
       "    <tr style=\"text-align: right;\">\n",
       "      <th></th>\n",
       "      <th>dt</th>\n",
       "      <th>feels_like</th>\n",
       "      <th>pressure</th>\n",
       "      <th>humidity</th>\n",
       "      <th>wind_speed</th>\n",
       "      <th>clouds_all</th>\n",
       "      <th>wind_x</th>\n",
       "      <th>wind_y</th>\n",
       "      <th>temp</th>\n",
       "      <th>prediction_interval</th>\n",
       "      <th>predicted</th>\n",
       "    </tr>\n",
       "  </thead>\n",
       "  <tbody>\n",
       "    <tr>\n",
       "      <th>0</th>\n",
       "      <td>2017-08-21 07:00:00</td>\n",
       "      <td>31.13</td>\n",
       "      <td>1007</td>\n",
       "      <td>88</td>\n",
       "      <td>1.0</td>\n",
       "      <td>20</td>\n",
       "      <td>1.000000</td>\n",
       "      <td>0.000000</td>\n",
       "      <td>26.06</td>\n",
       "      <td>[25.896960684385622, 26.196208543364197]</td>\n",
       "      <td>26.046585</td>\n",
       "    </tr>\n",
       "    <tr>\n",
       "      <th>1</th>\n",
       "      <td>2017-08-21 08:00:00</td>\n",
       "      <td>31.19</td>\n",
       "      <td>1008</td>\n",
       "      <td>83</td>\n",
       "      <td>2.1</td>\n",
       "      <td>40</td>\n",
       "      <td>0.364661</td>\n",
       "      <td>-2.068096</td>\n",
       "      <td>26.95</td>\n",
       "      <td>[26.73219477573706, 27.155395156415675]</td>\n",
       "      <td>26.943795</td>\n",
       "    </tr>\n",
       "    <tr>\n",
       "      <th>2</th>\n",
       "      <td>2017-08-21 09:00:00</td>\n",
       "      <td>33.81</td>\n",
       "      <td>1008</td>\n",
       "      <td>79</td>\n",
       "      <td>2.6</td>\n",
       "      <td>40</td>\n",
       "      <td>-0.451485</td>\n",
       "      <td>-2.560500</td>\n",
       "      <td>29.14</td>\n",
       "      <td>[28.869668077381245, 29.387980573188347]</td>\n",
       "      <td>29.128824</td>\n",
       "    </tr>\n",
       "    <tr>\n",
       "      <th>3</th>\n",
       "      <td>2017-08-21 10:00:00</td>\n",
       "      <td>33.03</td>\n",
       "      <td>1008</td>\n",
       "      <td>66</td>\n",
       "      <td>4.1</td>\n",
       "      <td>40</td>\n",
       "      <td>1.402283</td>\n",
       "      <td>-3.852740</td>\n",
       "      <td>30.45</td>\n",
       "      <td>[30.100407287744535, 30.69890300570169]</td>\n",
       "      <td>30.399655</td>\n",
       "    </tr>\n",
       "    <tr>\n",
       "      <th>4</th>\n",
       "      <td>2017-08-21 11:00:00</td>\n",
       "      <td>32.70</td>\n",
       "      <td>1008</td>\n",
       "      <td>62</td>\n",
       "      <td>4.6</td>\n",
       "      <td>40</td>\n",
       "      <td>1.573293</td>\n",
       "      <td>-4.322586</td>\n",
       "      <td>30.84</td>\n",
       "      <td>[30.389603390966144, 31.058741945763515]</td>\n",
       "      <td>30.724173</td>\n",
       "    </tr>\n",
       "  </tbody>\n",
       "</table>\n",
       "</div>"
      ],
      "text/plain": [
       "                   dt  feels_like  pressure  humidity  wind_speed  clouds_all  \\\n",
       "0 2017-08-21 07:00:00       31.13      1007        88         1.0          20   \n",
       "1 2017-08-21 08:00:00       31.19      1008        83         2.1          40   \n",
       "2 2017-08-21 09:00:00       33.81      1008        79         2.6          40   \n",
       "3 2017-08-21 10:00:00       33.03      1008        66         4.1          40   \n",
       "4 2017-08-21 11:00:00       32.70      1008        62         4.6          40   \n",
       "\n",
       "     wind_x    wind_y   temp                       prediction_interval  \\\n",
       "0  1.000000  0.000000  26.06  [25.896960684385622, 26.196208543364197]   \n",
       "1  0.364661 -2.068096  26.95   [26.73219477573706, 27.155395156415675]   \n",
       "2 -0.451485 -2.560500  29.14  [28.869668077381245, 29.387980573188347]   \n",
       "3  1.402283 -3.852740  30.45   [30.100407287744535, 30.69890300570169]   \n",
       "4  1.573293 -4.322586  30.84  [30.389603390966144, 31.058741945763515]   \n",
       "\n",
       "   predicted  \n",
       "0  26.046585  \n",
       "1  26.943795  \n",
       "2  29.128824  \n",
       "3  30.399655  \n",
       "4  30.724173  "
      ]
     },
     "execution_count": 66,
     "metadata": {},
     "output_type": "execute_result"
    }
   ],
   "source": [
    "# load forecast data frame\n",
    "fc_df = pd.read_csv(\"../data/predictions.csv\", parse_dates=[time_column_name])\n",
    "fc_df.head()"
   ]
  },
  {
   "cell_type": "code",
   "execution_count": 67,
   "metadata": {},
   "outputs": [
    {
     "name": "stdout",
     "output_type": "stream",
     "text": [
      "[Test data scores]\n",
      "\n",
      "explained_variance: 0.999\n",
      "normalized_root_mean_squared_log_error: 0.005\n",
      "root_mean_squared_log_error: 0.004\n",
      "normalized_mean_absolute_error: 0.004\n",
      "normalized_root_mean_squared_error: 0.005\n",
      "r2_score: 0.999\n",
      "spearman_correlation: 0.999\n",
      "normalized_median_absolute_error: 0.003\n",
      "median_absolute_error: 0.054\n",
      "mean_absolute_percentage_error: 0.248\n",
      "mean_absolute_error: 0.069\n",
      "root_mean_squared_error: 0.098\n"
     ]
    },
    {
     "data": {
      "text/plain": [
       "<matplotlib.legend.Legend at 0x1cdcb0a88e0>"
      ]
     },
     "execution_count": 67,
     "metadata": {},
     "output_type": "execute_result"
    },
    {
     "data": {
      "image/png": "[encoded data removed]",
      "text/plain": [
       "<Figure size 720x432 with 1 Axes>"
      ]
     },
     "metadata": {
      "needs_background": "light"
     },
     "output_type": "display_data"
    }
   ],
   "source": [
    "from azureml.automl.core.shared import constants\n",
    "from azureml.automl.runtime.shared.score import scoring\n",
    "from matplotlib import pyplot as plt\n",
    "\n",
    "# use automl scoring module\n",
    "scores = scoring.score_regression(\n",
    "    y_test=fc_df[target_column_name],\n",
    "    y_pred=fc_df[\"predicted\"],\n",
    "    metrics=list(constants.Metric.SCALAR_REGRESSION_SET),\n",
    ")\n",
    "\n",
    "print(\"[Test data scores]\\n\")\n",
    "for key, value in scores.items():\n",
    "    print(\"{}: {:.3f}\".format(key, value))\n",
    "\n",
    "# Plot outputs\n",
    "%matplotlib inline\n",
    "plt.figure(figsize=(10,6))\n",
    "fc_df['temp'][:100].plot(label='actual', color='dodgerblue', linewidth=1.5)\n",
    "fc_df['predicted'][:100].plot(label='prediction', color='crimson', linewidth=1.5)\n",
    "plt.legend()"
   ]
  },
  {
   "cell_type": "markdown",
   "metadata": {},
   "source": [
    "**Larger periods**"
   ]
  },
  {
   "cell_type": "code",
   "execution_count": 71,
   "metadata": {},
   "outputs": [
    {
     "data": {
      "text/plain": [
       "<matplotlib.legend.Legend at 0x1cdcb2901f0>"
      ]
     },
     "execution_count": 71,
     "metadata": {},
     "output_type": "execute_result"
    },
    {
     "data": {
      "image/png": "[encoded data removed]",
      "text/plain": [
       "<Figure size 1440x432 with 1 Axes>"
      ]
     },
     "metadata": {
      "needs_background": "light"
     },
     "output_type": "display_data"
    }
   ],
   "source": [
    "plt.figure(figsize=(20,6))\n",
    "fc_df['temp'][:2000].plot(label='actual', color='dodgerblue', linewidth=1.5)\n",
    "fc_df['predicted'][:2000].plot(label='prediction', color='crimson', linewidth=1.5)\n",
    "plt.legend()"
   ]
  },
  {
   "cell_type": "markdown",
   "metadata": {},
   "source": [
    "#### **Register Model**"
   ]
  },
  {
   "cell_type": "code",
   "execution_count": 73,
   "metadata": {},
   "outputs": [
    {
     "name": "stderr",
     "output_type": "stream",
     "text": [
      "WARNING:root:Forecasting task only supports simple imputation with following strategies: constant, ffill, mean, median, most_frequent. All other imputation settings will be ignored.\n",
      "WARNING:root:Forecasting task only supports simple imputation with following strategies: constant, ffill, mean, median, most_frequent. All other imputation settings will be ignored.\n"
     ]
    },
    {
     "name": "stdout",
     "output_type": "stream",
     "text": [
      "AutoML551084676506\n"
     ]
    }
   ],
   "source": [
    "description = \"AutoML Weather Forecaster\"\n",
    "tags = {\"forecast\": \"\", \"weather\": \"\", \"timeseries\": \"\"}\n",
    "model = remote_run.register_model(\n",
    "    model_name=model_name, description=description, tags=tags\n",
    ")\n",
    "\n",
    "print(remote_run.model_id)"
   ]
  },
  {
   "cell_type": "markdown",
   "metadata": {},
   "source": [
    "#### **Scoring script**"
   ]
  },
  {
   "cell_type": "code",
   "execution_count": 74,
   "metadata": {},
   "outputs": [],
   "source": [
    "script_file_name = \"score_fcast.py\"\n",
    "best_run.download_file(\"outputs/scoring_file_v_1_0_0.py\", script_file_name)"
   ]
  },
  {
   "cell_type": "markdown",
   "metadata": {},
   "source": [
    "#### **Deploy the model as a Web Service on Azure Container Instance**"
   ]
  },
  {
   "cell_type": "code",
   "execution_count": 75,
   "metadata": {},
   "outputs": [
    {
     "name": "stdout",
     "output_type": "stream",
     "text": [
      "automl-weather-forecast\n",
      "Tips: You can try get_logs(): https://aka.ms/debugimage#dockerlog or local deployment: https://aka.ms/debugimage#debug-locally to debug if deployment takes longer than 10 minutes.\n",
      "Running\n",
      "2022-03-31 20:53:07+07:00 Creating Container Registry if not exists.\n",
      "2022-03-31 20:53:07+07:00 Registering the environment.\n",
      "2022-03-31 20:53:08+07:00 Use the existing image.\n",
      "2022-03-31 20:53:08+07:00 Generating deployment configuration.\n",
      "2022-03-31 20:53:08+07:00 Submitting deployment to compute.\n",
      "2022-03-31 20:53:14+07:00 Checking the status of deployment automl-weather-forecast..\n",
      "2022-03-31 20:58:59+07:00 Checking the status of inference endpoint automl-weather-forecast.\n",
      "Succeeded\n",
      "ACI service creation operation finished, operation \"Succeeded\"\n",
      "Healthy\n"
     ]
    }
   ],
   "source": [
    "from azureml.core.model import InferenceConfig\n",
    "from azureml.core.webservice import AciWebservice\n",
    "from azureml.core.webservice import Webservice\n",
    "from azureml.core.model import Model\n",
    "\n",
    "inference_config = InferenceConfig(\n",
    "    environment=best_run.get_environment(), entry_script=script_file_name\n",
    ")\n",
    "\n",
    "aciconfig = AciWebservice.deploy_configuration(\n",
    "    cpu_cores=2,\n",
    "    memory_gb=4,\n",
    "    tags={\"type\": \"automl-forecasting\"},\n",
    "    description=\"AutoML Weather forecasting service\",\n",
    ")\n",
    "\n",
    "aci_service_name = \"automl-weather-forecast\"\n",
    "print(aci_service_name)\n",
    "aci_service = Model.deploy(ws, aci_service_name, [model], inference_config, aciconfig)\n",
    "aci_service.wait_for_deployment(True)\n",
    "print(aci_service.state)"
   ]
  },
  {
   "cell_type": "code",
   "execution_count": 76,
   "metadata": {},
   "outputs": [
    {
     "data": {
      "text/plain": [
       "'2022-03-31T13:58:42,612293500+00:00 - gunicorn/run \\nDynamic Python package installation is disabled.\\nStarting HTTP server\\n2022-03-31T13:58:42,620022000+00:00 - iot-server/run \\n2022-03-31T13:58:42,621848000+00:00 - rsyslog/run \\n2022-03-31T13:58:42,629517400+00:00 - nginx/run \\nrsyslogd: /azureml-envs/azureml_d9e3d76962d7db86fba419399940e31f/lib/libuuid.so.1: no version information available (required by rsyslogd)\\nEdgeHubConnectionString and IOTEDGE_IOTHUBHOSTNAME are not set. Exiting...\\n2022-03-31T13:58:42,820229400+00:00 - iot-server/finish 1 0\\n2022-03-31T13:58:42,821885800+00:00 - Exit code 1 is normal. Not restarting iot-server.\\nStarting gunicorn 20.1.0\\nListening at: http://127.0.0.1:31311 (112)\\nUsing worker: sync\\nworker timeout is set to 300\\nBooting worker with pid: 139\\nSPARK_HOME not set. Skipping PySpark Initialization.\\nInitializing logger\\n2022-03-31 13:58:44,440 | root | INFO | Starting up app insights client\\nlogging socket was found. logging is available.\\nlogging socket was found. logging is available.\\n2022-03-31 13:58:44,440 | root | INFO | Starting up request id generator\\n2022-03-31 13:58:44,443 | root | INFO | Starting up app insight hooks\\n2022-03-31 13:58:44,443 | root | INFO | Invoking user\\'s init function\\nBetter speed can be achieved with apex installed from https://www.github.com/nvidia/apex .\\nBetter speed can be achieved with apex installed from https://www.github.com/nvidia/apex .\\n2022-03-31 13:58:51,043 | root | INFO | Users\\'s init has completed successfully\\n2022-03-31 13:58:51,046 | root | INFO | Skipping middleware: dbg_model_info as it\\'s not enabled.\\n2022-03-31 13:58:51,046 | root | INFO | Skipping middleware: dbg_resource_usage as it\\'s not enabled.\\nGenerating swagger file: /tmp/tmpeg963fss\\n2022-03-31 13:58:51,049 | root | INFO | Scoring timeout is found from os.environ: 60000 ms\\n2022-03-31 14:00:32,194 | root | INFO | 200\\n127.0.0.1 - - [31/Mar/2022:14:00:32 +0000] \"GET /swagger.json HTTP/1.0\" 200 2736 \"-\" \"Go-http-client/1.1\"\\n2022-03-31 14:00:37,524 | root | INFO | 200\\n127.0.0.1 - - [31/Mar/2022:14:00:37 +0000] \"GET /swagger.json HTTP/1.0\" 200 2736 \"-\" \"Go-http-client/1.1\"\\n'"
      ]
     },
     "execution_count": 76,
     "metadata": {},
     "output_type": "execute_result"
    }
   ],
   "source": [
    "aci_service.get_logs()"
   ]
  },
  {
   "cell_type": "markdown",
   "metadata": {},
   "source": [
    "#### **Call the service**"
   ]
  },
  {
   "cell_type": "code",
   "execution_count": 77,
   "metadata": {},
   "outputs": [],
   "source": [
    "import json\n",
    "\n",
    "X_query = test.copy()\n",
    "X_query.pop(target_column_name)\n",
    "# We have to convert datetime to string, because Timestamps cannot be serialized to JSON.\n",
    "X_query[time_column_name] = X_query[time_column_name].astype(str)\n",
    "# The Service object accept the complex dictionary, which is internally converted to JSON string.\n",
    "# The section 'data' contains the data frame in the form of dictionary.\n",
    "sample_quantiles = [0.025, 0.975]\n",
    "test_sample = json.dumps(\n",
    "    {\"data\": X_query.to_dict(orient=\"records\"), \"quantiles\": sample_quantiles}\n",
    ")\n",
    "response = aci_service.run(input_data=test_sample)\n",
    "# translate from networkese to datascientese\n",
    "try:\n",
    "    res_dict = json.loads(response)\n",
    "    y_fc_all = pd.DataFrame(res_dict[\"index\"])\n",
    "    y_fc_all[time_column_name] = pd.to_datetime(\n",
    "        y_fc_all[time_column_name], unit=\"ms\"\n",
    "    )\n",
    "    y_fc_all[\"forecast\"] = res_dict[\"forecast\"]\n",
    "    y_fc_all[\"prediction_interval\"] = res_dict[\"prediction_interval\"]\n",
    "except:\n",
    "    print(res_dict)"
   ]
  },
  {
   "cell_type": "code",
   "execution_count": 78,
   "metadata": {},
   "outputs": [
    {
     "data": {
      "text/html": [
       "<div>\n",
       "<style scoped>\n",
       "    .dataframe tbody tr th:only-of-type {\n",
       "        vertical-align: middle;\n",
       "    }\n",
       "\n",
       "    .dataframe tbody tr th {\n",
       "        vertical-align: top;\n",
       "    }\n",
       "\n",
       "    .dataframe thead th {\n",
       "        text-align: right;\n",
       "    }\n",
       "</style>\n",
       "<table border=\"1\" class=\"dataframe\">\n",
       "  <thead>\n",
       "    <tr style=\"text-align: right;\">\n",
       "      <th></th>\n",
       "      <th>dt</th>\n",
       "      <th>forecast</th>\n",
       "      <th>prediction_interval</th>\n",
       "    </tr>\n",
       "  </thead>\n",
       "  <tbody>\n",
       "    <tr>\n",
       "      <th>0</th>\n",
       "      <td>2017-08-21 07:00:00</td>\n",
       "      <td>26.046585</td>\n",
       "      <td>[25.896960684385622, 26.196208543364197]</td>\n",
       "    </tr>\n",
       "    <tr>\n",
       "      <th>1</th>\n",
       "      <td>2017-08-21 08:00:00</td>\n",
       "      <td>26.943795</td>\n",
       "      <td>[26.73219477573706, 27.155395156415675]</td>\n",
       "    </tr>\n",
       "    <tr>\n",
       "      <th>2</th>\n",
       "      <td>2017-08-21 09:00:00</td>\n",
       "      <td>29.128824</td>\n",
       "      <td>[28.869668077381245, 29.387980573188347]</td>\n",
       "    </tr>\n",
       "    <tr>\n",
       "      <th>3</th>\n",
       "      <td>2017-08-21 10:00:00</td>\n",
       "      <td>30.399655</td>\n",
       "      <td>[30.100407287744535, 30.69890300570169]</td>\n",
       "    </tr>\n",
       "    <tr>\n",
       "      <th>4</th>\n",
       "      <td>2017-08-21 11:00:00</td>\n",
       "      <td>30.724173</td>\n",
       "      <td>[30.389603390966144, 31.058741945763515]</td>\n",
       "    </tr>\n",
       "  </tbody>\n",
       "</table>\n",
       "</div>"
      ],
      "text/plain": [
       "                   dt   forecast                       prediction_interval\n",
       "0 2017-08-21 07:00:00  26.046585  [25.896960684385622, 26.196208543364197]\n",
       "1 2017-08-21 08:00:00  26.943795   [26.73219477573706, 27.155395156415675]\n",
       "2 2017-08-21 09:00:00  29.128824  [28.869668077381245, 29.387980573188347]\n",
       "3 2017-08-21 10:00:00  30.399655   [30.100407287744535, 30.69890300570169]\n",
       "4 2017-08-21 11:00:00  30.724173  [30.389603390966144, 31.058741945763515]"
      ]
     },
     "execution_count": 78,
     "metadata": {},
     "output_type": "execute_result"
    }
   ],
   "source": [
    "y_fc_all.head()"
   ]
  },
  {
   "cell_type": "code",
   "execution_count": 79,
   "metadata": {},
   "outputs": [
    {
     "data": {
      "text/html": [
       "<div>\n",
       "<style scoped>\n",
       "    .dataframe tbody tr th:only-of-type {\n",
       "        vertical-align: middle;\n",
       "    }\n",
       "\n",
       "    .dataframe tbody tr th {\n",
       "        vertical-align: top;\n",
       "    }\n",
       "\n",
       "    .dataframe thead th {\n",
       "        text-align: right;\n",
       "    }\n",
       "</style>\n",
       "<table border=\"1\" class=\"dataframe\">\n",
       "  <thead>\n",
       "    <tr style=\"text-align: right;\">\n",
       "      <th></th>\n",
       "      <th>dt</th>\n",
       "      <th>temp</th>\n",
       "      <th>feels_like</th>\n",
       "      <th>pressure</th>\n",
       "      <th>humidity</th>\n",
       "      <th>wind_speed</th>\n",
       "      <th>clouds_all</th>\n",
       "      <th>wind_x</th>\n",
       "      <th>wind_y</th>\n",
       "    </tr>\n",
       "  </thead>\n",
       "  <tbody>\n",
       "    <tr>\n",
       "      <th>147617</th>\n",
       "      <td>2017-08-21 07:00:00</td>\n",
       "      <td>26.06</td>\n",
       "      <td>31.13</td>\n",
       "      <td>1007</td>\n",
       "      <td>88</td>\n",
       "      <td>1.0</td>\n",
       "      <td>20</td>\n",
       "      <td>1.0</td>\n",
       "      <td>0.0</td>\n",
       "    </tr>\n",
       "  </tbody>\n",
       "</table>\n",
       "</div>"
      ],
      "text/plain": [
       "                        dt   temp  feels_like  pressure  humidity  wind_speed  \\\n",
       "147617 2017-08-21 07:00:00  26.06       31.13      1007        88         1.0   \n",
       "\n",
       "        clouds_all  wind_x  wind_y  \n",
       "147617          20     1.0     0.0  "
      ]
     },
     "execution_count": 79,
     "metadata": {},
     "output_type": "execute_result"
    }
   ],
   "source": [
    "# Check the accuracy prediction of the first rows\n",
    "test[test['dt'] == '2017-08-21 07:00:00']"
   ]
  },
  {
   "cell_type": "markdown",
   "metadata": {},
   "source": [
    "#### **Delete service option**"
   ]
  },
  {
   "cell_type": "code",
   "execution_count": null,
   "metadata": {},
   "outputs": [],
   "source": [
    "# serv = Webservice(ws, \"automl-weather-forecast\")\n",
    "# serv.delete()  # don't do it accidentally"
   ]
  }
 ],
 "metadata": {
  "interpreter": {
   "hash": "3402921cf80275f550efc13405b26395a5e318ddedde431f5cf4ab1d6eb4fbe2"
  },
  "kernelspec": {
   "display_name": "Python 3.6.2 ('azureml_809a074975457de1dd27bdfcf2d79d61')",
   "language": "python",
   "name": "python3"
  },
  "language_info": {
   "codemirror_mode": {
    "name": "ipython",
    "version": 3
   },
   "file_extension": ".py",
   "mimetype": "text/x-python",
   "name": "python",
   "nbconvert_exporter": "python",
   "pygments_lexer": "ipython3",
   "version": "3.8.5"
  },
  "orig_nbformat": 4
 },
 "nbformat": 4,
 "nbformat_minor": 2
}
