{
 "cells": [
  {
   "cell_type": "markdown",
   "metadata": {},
   "source": [
    "#### **Import Data**"
   ]
  },
  {
   "cell_type": "code",
   "execution_count": 48,
   "metadata": {},
   "outputs": [],
   "source": [
    "# Import libraries\n",
    "import os\n",
    "import glob\n",
    "import datetime\n",
    "\n",
    "import IPython\n",
    "import IPython.display\n",
    "import matplotlib as mpl\n",
    "import matplotlib.pyplot as plt\n",
    "import pandas as pd\n",
    "import numpy as np\n",
    "import seaborn as sns\n",
    "from sklearn.impute import SimpleImputer\n",
    "\n",
    "\n",
    "csv_files = glob.glob('./*.csv')"
   ]
  },
  {
   "cell_type": "markdown",
   "metadata": {},
   "source": [
    "#### **Setup**"
   ]
  },
  {
   "cell_type": "code",
   "execution_count": 12,
   "metadata": {},
   "outputs": [],
   "source": [
    "import json\n",
    "import logging\n",
    "\n",
    "import azureml.core\n",
    "import pandas as pd\n",
    "from azureml.automl.core.featurization import FeaturizationConfig\n",
    "from azureml.core.experiment import Experiment\n",
    "from azureml.core.workspace import Workspace\n",
    "from azureml.train.automl import AutoMLConfig"
   ]
  },
  {
   "cell_type": "code",
   "execution_count": 13,
   "metadata": {},
   "outputs": [
    {
     "name": "stdout",
     "output_type": "stream",
     "text": [
      "Azure ML SDK version 1.39.0\n"
     ]
    }
   ],
   "source": [
    "print(\"Azure ML SDK version\", azureml.core.VERSION)"
   ]
  },
  {
   "cell_type": "code",
   "execution_count": 14,
   "metadata": {},
   "outputs": [],
   "source": [
    "ws = Workspace.from_config()"
   ]
  },
  {
   "cell_type": "code",
   "execution_count": 15,
   "metadata": {},
   "outputs": [
    {
     "data": {
      "text/html": [
       "<div>\n",
       "<style scoped>\n",
       "    .dataframe tbody tr th:only-of-type {\n",
       "        vertical-align: middle;\n",
       "    }\n",
       "\n",
       "    .dataframe tbody tr th {\n",
       "        vertical-align: top;\n",
       "    }\n",
       "\n",
       "    .dataframe thead th {\n",
       "        text-align: right;\n",
       "    }\n",
       "</style>\n",
       "<table border=\"1\" class=\"dataframe\">\n",
       "  <thead>\n",
       "    <tr style=\"text-align: right;\">\n",
       "      <th></th>\n",
       "      <th></th>\n",
       "    </tr>\n",
       "  </thead>\n",
       "  <tbody>\n",
       "    <tr>\n",
       "      <th>Subscription ID</th>\n",
       "      <td>8791d321-d956-4566-8a38-238c7aab2ebd</td>\n",
       "    </tr>\n",
       "    <tr>\n",
       "      <th>Workspace</th>\n",
       "      <td>ml-study-tien</td>\n",
       "    </tr>\n",
       "    <tr>\n",
       "      <th>SKU</th>\n",
       "      <td>Basic</td>\n",
       "    </tr>\n",
       "    <tr>\n",
       "      <th>Resource Group</th>\n",
       "      <td>ml-study</td>\n",
       "    </tr>\n",
       "    <tr>\n",
       "      <th>Location</th>\n",
       "      <td>eastus2</td>\n",
       "    </tr>\n",
       "    <tr>\n",
       "      <th>Run History Name</th>\n",
       "      <td>automl-weather-forecasting</td>\n",
       "    </tr>\n",
       "  </tbody>\n",
       "</table>\n",
       "</div>"
      ],
      "text/plain": [
       "                                                      \n",
       "Subscription ID   8791d321-d956-4566-8a38-238c7aab2ebd\n",
       "Workspace                                ml-study-tien\n",
       "SKU                                              Basic\n",
       "Resource Group                                ml-study\n",
       "Location                                       eastus2\n",
       "Run History Name            automl-weather-forecasting"
      ]
     },
     "execution_count": 15,
     "metadata": {},
     "output_type": "execute_result"
    }
   ],
   "source": [
    "experiment_name = \"automl-weather-forecasting\"\n",
    "\n",
    "experiment = Experiment(ws, experiment_name)\n",
    "\n",
    "output = {}\n",
    "output[\"Subscription ID\"] = ws.subscription_id\n",
    "output[\"Workspace\"] = ws.name\n",
    "output[\"SKU\"] = ws.sku\n",
    "output[\"Resource Group\"] = ws.resource_group\n",
    "output[\"Location\"] = ws.location\n",
    "output[\"Run History Name\"] = experiment_name\n",
    "pd.set_option(\"display.max_colwidth\", None)\n",
    "outputDf = pd.DataFrame(data=output, index=[\"\"])\n",
    "outputDf.T"
   ]
  },
  {
   "cell_type": "markdown",
   "metadata": {},
   "source": [
    "#### **Compute**"
   ]
  },
  {
   "cell_type": "code",
   "execution_count": 16,
   "metadata": {},
   "outputs": [
    {
     "name": "stdout",
     "output_type": "stream",
     "text": [
      "Found existing compute cluster.\n",
      "Succeeded\n",
      "AmlCompute wait for completion finished\n",
      "\n",
      "Minimum number of nodes requested have been provisioned\n"
     ]
    }
   ],
   "source": [
    "from azureml.core.compute import ComputeTarget, AmlCompute\n",
    "from azureml.core.compute_target import ComputeTargetException\n",
    "\n",
    "# Azure ML compute cluster name\n",
    "amlcompute_cluster_name = 'weather-cluster'\n",
    "\n",
    "try:\n",
    "    compute_target = ComputeTarget(workspace=ws, name=amlcompute_cluster_name)\n",
    "    print(\"Found existing compute cluster.\")\n",
    "except ComputeTargetException:\n",
    "    compute_config = AmlCompute.provisioning_configuration(\n",
    "        vm_size=\"Standard_DS3_v2\", max_nodes=6\n",
    "    )\n",
    "    compute_target = ComputeTarget.create(ws, amlcompute_cluster_name, compute_config)\n",
    "\n",
    "compute_target.wait_for_completion(show_output=True)"
   ]
  },
  {
   "cell_type": "markdown",
   "metadata": {},
   "source": [
    "#### **Data Configuration**"
   ]
  },
  {
   "cell_type": "code",
   "execution_count": 17,
   "metadata": {},
   "outputs": [
    {
     "data": {
      "text/html": [
       "<div>\n",
       "<style scoped>\n",
       "    .dataframe tbody tr th:only-of-type {\n",
       "        vertical-align: middle;\n",
       "    }\n",
       "\n",
       "    .dataframe tbody tr th {\n",
       "        vertical-align: top;\n",
       "    }\n",
       "\n",
       "    .dataframe thead th {\n",
       "        text-align: right;\n",
       "    }\n",
       "</style>\n",
       "<table border=\"1\" class=\"dataframe\">\n",
       "  <thead>\n",
       "    <tr style=\"text-align: right;\">\n",
       "      <th></th>\n",
       "      <th>dt</th>\n",
       "      <th>temp</th>\n",
       "      <th>feels_like</th>\n",
       "      <th>temp_min</th>\n",
       "      <th>temp_max</th>\n",
       "      <th>pressure</th>\n",
       "      <th>humidity</th>\n",
       "      <th>wind_speed</th>\n",
       "      <th>clouds_all</th>\n",
       "      <th>weather_main</th>\n",
       "      <th>wind_x</th>\n",
       "      <th>wind_y</th>\n",
       "    </tr>\n",
       "  </thead>\n",
       "  <tbody>\n",
       "    <tr>\n",
       "      <th>0</th>\n",
       "      <td>978307200</td>\n",
       "      <td>21.87</td>\n",
       "      <td>25.26</td>\n",
       "      <td>21.40</td>\n",
       "      <td>23.09</td>\n",
       "      <td>1011</td>\n",
       "      <td>96</td>\n",
       "      <td>1.28</td>\n",
       "      <td>20</td>\n",
       "      <td>Mist</td>\n",
       "      <td>1.150456</td>\n",
       "      <td>0.561115</td>\n",
       "    </tr>\n",
       "    <tr>\n",
       "      <th>1</th>\n",
       "      <td>978310800</td>\n",
       "      <td>22.83</td>\n",
       "      <td>25.72</td>\n",
       "      <td>22.18</td>\n",
       "      <td>23.00</td>\n",
       "      <td>1012</td>\n",
       "      <td>83</td>\n",
       "      <td>1.00</td>\n",
       "      <td>20</td>\n",
       "      <td>Mist</td>\n",
       "      <td>0.984808</td>\n",
       "      <td>-0.173648</td>\n",
       "    </tr>\n",
       "    <tr>\n",
       "      <th>2</th>\n",
       "      <td>978314400</td>\n",
       "      <td>26.13</td>\n",
       "      <td>29.56</td>\n",
       "      <td>26.00</td>\n",
       "      <td>26.49</td>\n",
       "      <td>1012</td>\n",
       "      <td>73</td>\n",
       "      <td>1.00</td>\n",
       "      <td>20</td>\n",
       "      <td>Clouds</td>\n",
       "      <td>0.984808</td>\n",
       "      <td>0.173648</td>\n",
       "    </tr>\n",
       "    <tr>\n",
       "      <th>3</th>\n",
       "      <td>978318000</td>\n",
       "      <td>26.96</td>\n",
       "      <td>29.98</td>\n",
       "      <td>26.60</td>\n",
       "      <td>27.10</td>\n",
       "      <td>1012</td>\n",
       "      <td>66</td>\n",
       "      <td>1.00</td>\n",
       "      <td>20</td>\n",
       "      <td>Clouds</td>\n",
       "      <td>0.984808</td>\n",
       "      <td>0.173648</td>\n",
       "    </tr>\n",
       "    <tr>\n",
       "      <th>4</th>\n",
       "      <td>978321600</td>\n",
       "      <td>27.57</td>\n",
       "      <td>30.91</td>\n",
       "      <td>26.84</td>\n",
       "      <td>28.00</td>\n",
       "      <td>1011</td>\n",
       "      <td>65</td>\n",
       "      <td>0.78</td>\n",
       "      <td>20</td>\n",
       "      <td>Clouds</td>\n",
       "      <td>0.765669</td>\n",
       "      <td>-0.148831</td>\n",
       "    </tr>\n",
       "  </tbody>\n",
       "</table>\n",
       "</div>"
      ],
      "text/plain": [
       "          dt   temp  feels_like  temp_min  temp_max  pressure  humidity  \\\n",
       "0  978307200  21.87       25.26     21.40     23.09      1011        96   \n",
       "1  978310800  22.83       25.72     22.18     23.00      1012        83   \n",
       "2  978314400  26.13       29.56     26.00     26.49      1012        73   \n",
       "3  978318000  26.96       29.98     26.60     27.10      1012        66   \n",
       "4  978321600  27.57       30.91     26.84     28.00      1011        65   \n",
       "\n",
       "   wind_speed  clouds_all weather_main    wind_x    wind_y  \n",
       "0        1.28          20         Mist  1.150456  0.561115  \n",
       "1        1.00          20         Mist  0.984808 -0.173648  \n",
       "2        1.00          20       Clouds  0.984808  0.173648  \n",
       "3        1.00          20       Clouds  0.984808  0.173648  \n",
       "4        0.78          20       Clouds  0.765669 -0.148831  "
      ]
     },
     "execution_count": 17,
     "metadata": {},
     "output_type": "execute_result"
    }
   ],
   "source": [
    "from datetime import datetime as dt\n",
    "\n",
    "sub = 'cleaned'\n",
    "\n",
    "time_column_name = 'dt'\n",
    "custom_date_parser = lambda x: dt.strptime(x, \"%Y-%m-%d %H:%M:%S %Z\")\n",
    "\n",
    "df = pd.read_csv([s for s in csv_files if sub in s][0], parse_dates=[time_column_name])\n",
    "df = df.drop(columns=['Day sin', 'Day cos', 'Year sin', 'Year cos'])\n",
    "df.head(5)"
   ]
  },
  {
   "cell_type": "code",
   "execution_count": 18,
   "metadata": {},
   "outputs": [],
   "source": [
    "df.drop_duplicates(subset='dt', keep='first', inplace=True)\n",
    "df['dt'] = df['dt'].apply(lambda x: dt.fromtimestamp(int(x)))\n",
    "df.drop(columns=['temp_max', 'temp_min', 'weather_main'], inplace=True)"
   ]
  },
  {
   "cell_type": "code",
   "execution_count": 19,
   "metadata": {},
   "outputs": [],
   "source": [
    "n_test_periods = 200\n",
    "\n",
    "def split_data_by_series(df, n):\n",
    "    \n",
    "    n = n * 7 * 24 # Weekly -> Daily -> Hourly\n",
    "    df_head = df.apply(lambda dfg: dfg.iloc[:-n])\n",
    "    df_tail = df.apply(lambda dfg: dfg.iloc[-n:])\n",
    "\n",
    "    return df_head, df_tail\n",
    "\n",
    "train, test = split_data_by_series(df, n_test_periods)"
   ]
  },
  {
   "cell_type": "markdown",
   "metadata": {},
   "source": [
    "#### **Upload dataset to datastore**"
   ]
  },
  {
   "cell_type": "code",
   "execution_count": 86,
   "metadata": {},
   "outputs": [
    {
     "name": "stdout",
     "output_type": "stream",
     "text": [
      "Validating arguments.\n",
      "Arguments validated.\n",
      "Successfully obtained datastore reference and path.\n",
      "Uploading file to dataset//742f15ed-29ee-4eb2-be02-10dd3dd436e4/\n",
      "Successfully uploaded file to datastore.\n",
      "Creating and registering a new dataset.\n",
      "Successfully created and registered a new dataset.\n",
      "Validating arguments.\n",
      "Arguments validated.\n",
      "Successfully obtained datastore reference and path.\n",
      "Uploading file to dataset//0300fede-eb91-4f8e-9142-2f7ac60b675c/\n",
      "Successfully uploaded file to datastore.\n",
      "Creating and registering a new dataset.\n",
      "Successfully created and registered a new dataset.\n"
     ]
    }
   ],
   "source": [
    "from azureml.data.dataset_factory import TabularDatasetFactory\n",
    "\n",
    "datastore = ws.get_default_datastore()\n",
    "train_dataset = TabularDatasetFactory.register_pandas_dataframe(\n",
    "    train, target=(datastore, \"dataset/\"), name=\"weather_train\"\n",
    ")\n",
    "test_dataset = TabularDatasetFactory.register_pandas_dataframe(\n",
    "    test, target=(datastore, \"dataset/\"), name=\"weather_test\"\n",
    ")"
   ]
  },
  {
   "cell_type": "code",
   "execution_count": 87,
   "metadata": {},
   "outputs": [
    {
     "data": {
      "text/html": [
       "<div>\n",
       "<style scoped>\n",
       "    .dataframe tbody tr th:only-of-type {\n",
       "        vertical-align: middle;\n",
       "    }\n",
       "\n",
       "    .dataframe tbody tr th {\n",
       "        vertical-align: top;\n",
       "    }\n",
       "\n",
       "    .dataframe thead th {\n",
       "        text-align: right;\n",
       "    }\n",
       "</style>\n",
       "<table border=\"1\" class=\"dataframe\">\n",
       "  <thead>\n",
       "    <tr style=\"text-align: right;\">\n",
       "      <th></th>\n",
       "      <th>dt</th>\n",
       "      <th>temp</th>\n",
       "      <th>feels_like</th>\n",
       "      <th>pressure</th>\n",
       "      <th>humidity</th>\n",
       "      <th>wind_speed</th>\n",
       "      <th>clouds_all</th>\n",
       "      <th>wind_x</th>\n",
       "      <th>wind_y</th>\n",
       "    </tr>\n",
       "  </thead>\n",
       "  <tbody>\n",
       "    <tr>\n",
       "      <th>145819</th>\n",
       "      <td>2017-08-21 02:00:00</td>\n",
       "      <td>25.21</td>\n",
       "      <td>30.78</td>\n",
       "      <td>1007</td>\n",
       "      <td>94</td>\n",
       "      <td>0.5</td>\n",
       "      <td>40</td>\n",
       "      <td>0.50</td>\n",
       "      <td>0.000000</td>\n",
       "    </tr>\n",
       "    <tr>\n",
       "      <th>145820</th>\n",
       "      <td>2017-08-21 03:00:00</td>\n",
       "      <td>25.19</td>\n",
       "      <td>29.63</td>\n",
       "      <td>1007</td>\n",
       "      <td>94</td>\n",
       "      <td>2.1</td>\n",
       "      <td>40</td>\n",
       "      <td>-1.05</td>\n",
       "      <td>-1.818653</td>\n",
       "    </tr>\n",
       "    <tr>\n",
       "      <th>145821</th>\n",
       "      <td>2017-08-21 04:00:00</td>\n",
       "      <td>25.20</td>\n",
       "      <td>30.41</td>\n",
       "      <td>1007</td>\n",
       "      <td>94</td>\n",
       "      <td>1.0</td>\n",
       "      <td>40</td>\n",
       "      <td>1.00</td>\n",
       "      <td>0.000000</td>\n",
       "    </tr>\n",
       "    <tr>\n",
       "      <th>145822</th>\n",
       "      <td>2017-08-21 05:00:00</td>\n",
       "      <td>25.29</td>\n",
       "      <td>30.56</td>\n",
       "      <td>1007</td>\n",
       "      <td>94</td>\n",
       "      <td>1.0</td>\n",
       "      <td>40</td>\n",
       "      <td>1.00</td>\n",
       "      <td>0.000000</td>\n",
       "    </tr>\n",
       "    <tr>\n",
       "      <th>145823</th>\n",
       "      <td>2017-08-21 06:00:00</td>\n",
       "      <td>25.20</td>\n",
       "      <td>30.06</td>\n",
       "      <td>1007</td>\n",
       "      <td>94</td>\n",
       "      <td>1.5</td>\n",
       "      <td>40</td>\n",
       "      <td>-0.75</td>\n",
       "      <td>-1.299038</td>\n",
       "    </tr>\n",
       "  </tbody>\n",
       "</table>\n",
       "</div>"
      ],
      "text/plain": [
       "                        dt   temp  feels_like  pressure  humidity  wind_speed  \\\n",
       "145819 2017-08-21 02:00:00  25.21       30.78      1007        94         0.5   \n",
       "145820 2017-08-21 03:00:00  25.19       29.63      1007        94         2.1   \n",
       "145821 2017-08-21 04:00:00  25.20       30.41      1007        94         1.0   \n",
       "145822 2017-08-21 05:00:00  25.29       30.56      1007        94         1.0   \n",
       "145823 2017-08-21 06:00:00  25.20       30.06      1007        94         1.5   \n",
       "\n",
       "        clouds_all  wind_x    wind_y  \n",
       "145819          40    0.50  0.000000  \n",
       "145820          40   -1.05 -1.818653  \n",
       "145821          40    1.00  0.000000  \n",
       "145822          40    1.00  0.000000  \n",
       "145823          40   -0.75 -1.299038  "
      ]
     },
     "execution_count": 87,
     "metadata": {},
     "output_type": "execute_result"
    }
   ],
   "source": [
    "train_dataset.to_pandas_dataframe().tail()"
   ]
  },
  {
   "cell_type": "markdown",
   "metadata": {},
   "source": [
    "#### **Modeling**"
   ]
  },
  {
   "cell_type": "code",
   "execution_count": 88,
   "metadata": {},
   "outputs": [],
   "source": [
    "target_column_name = 'temp'"
   ]
  },
  {
   "cell_type": "code",
   "execution_count": 89,
   "metadata": {},
   "outputs": [],
   "source": [
    "featurization_config = FeaturizationConfig()\n",
    "# Force the pressure feature to be numeric type.\n",
    "featurization_config.add_column_purpose(\"humidity\", \"Numeric\")\n",
    "# Fill missing values in the target column, temp, with zeros.\n",
    "featurization_config.add_transformer_params(\n",
    "    \"Imputer\", [\"temp\"], {\"strategy\": \"constant\", \"fill_value\": 0}\n",
    ")\n",
    "featurization_config.add_transformer_params(\n",
    "    \"Imputer\", [\"pressure\"], {\"strategy\": \"median\"}\n",
    ")\n",
    "featurization_config.add_transformer_params(\n",
    "    \"Imputer\", [\"humidity\"], {\"strategy\": \"median\"}\n",
    ")\n",
    "featurization_config.add_transformer_params(\n",
    "    \"Imputer\", [\"clouds_all\"], {\"strategy\": \"mode\"}\n",
    ")"
   ]
  },
  {
   "cell_type": "markdown",
   "metadata": {},
   "source": [
    "#### **Train**"
   ]
  },
  {
   "cell_type": "code",
   "execution_count": 90,
   "metadata": {},
   "outputs": [],
   "source": [
    "from azureml.automl.core.forecasting_parameters import ForecastingParameters\n",
    "\n",
    "forecasting_parameters = ForecastingParameters(\n",
    "    time_column_name=time_column_name,\n",
    "    forecast_horizon=n_test_periods,\n",
    "    freq=\"H\",  # Set the forecast frequency to be hourly\n",
    ")\n",
    "\n",
    "automl_config = AutoMLConfig(\n",
    "    task=\"forecasting\",\n",
    "    debug_log=\"automl_weather_forecast.log\",\n",
    "    primary_metric=\"normalized_root_mean_squared_error\",\n",
    "    experiment_timeout_hours=0.75,\n",
    "    training_data=train_dataset,\n",
    "    label_column_name=target_column_name,\n",
    "    compute_target=compute_target,\n",
    "    enable_early_stopping=True,\n",
    "    featurization=featurization_config,\n",
    "    n_cross_validations=5,\n",
    "    verbosity=logging.INFO,\n",
    "    max_cores_per_iteration=-1,\n",
    "    forecasting_parameters=forecasting_parameters,\n",
    ")"
   ]
  },
  {
   "cell_type": "code",
   "execution_count": 91,
   "metadata": {},
   "outputs": [
    {
     "name": "stderr",
     "output_type": "stream",
     "text": [
      "WARNING:root:Forecasting task only supports simple imputation with following strategies: constant, ffill, mean, median, most_frequent. All other imputation settings will be ignored.\n"
     ]
    },
    {
     "name": "stdout",
     "output_type": "stream",
     "text": [
      "Submitting remote run.\n"
     ]
    },
    {
     "data": {
      "text/html": [
       "<table style=\"width:100%\"><tr><th>Experiment</th><th>Id</th><th>Type</th><th>Status</th><th>Details Page</th><th>Docs Page</th></tr><tr><td>automl-weather-forecasting</td><td>AutoML_020d6d64-d70f-4a76-8f73-adc962e6ae1e</td><td>automl</td><td>NotStarted</td><td><a href=\"https://ml.azure.com/runs/AutoML_020d6d64-d70f-4a76-8f73-adc962e6ae1e?wsid=/subscriptions/8791d321-d956-4566-8a38-238c7aab2ebd/resourcegroups/ml-study/workspaces/ml-study-tien&amp;tid=6a6116bd-0426-4b96-8bd9-bf54bd58bd86\" target=\"_blank\" rel=\"noopener\">Link to Azure Machine Learning studio</a></td><td><a href=\"https://docs.microsoft.com/en-us/python/api/overview/azure/ml/intro?view=azure-ml-py\" target=\"_blank\" rel=\"noopener\">Link to Documentation</a></td></tr></table>"
      ],
      "text/plain": [
       "<IPython.core.display.HTML object>"
      ]
     },
     "metadata": {},
     "output_type": "display_data"
    }
   ],
   "source": [
    "remote_run = experiment.submit(automl_config, show_output=False)"
   ]
  },
  {
   "cell_type": "code",
   "execution_count": 55,
   "metadata": {},
   "outputs": [
    {
     "name": "stderr",
     "output_type": "stream",
     "text": [
      "WARNING:urllib3.connectionpool:Retrying (Retry(total=0, connect=None, read=None, redirect=None, status=None)) after connection broken by 'ProtocolError('Connection aborted.', ConnectionResetError(10054, 'An existing connection was forcibly closed by the remote host', None, 10054, None))': /6a6116bd-0426-4b96-8bd9-bf54bd58bd86/v2.0/.well-known/openid-configuration\n"
     ]
    },
    {
     "data": {
      "text/plain": [
       "{'runId': 'AutoML_f4fac072-ff0c-4ba2-bf35-edbdf9bb75df',\n",
       " 'target': 'weather-cluster',\n",
       " 'status': 'Completed',\n",
       " 'startTimeUtc': '2022-03-29T07:32:01.67797Z',\n",
       " 'endTimeUtc': '2022-03-29T08:22:39.052879Z',\n",
       " 'services': {},\n",
       " 'warnings': [{'source': 'JasmineService',\n",
       "   'message': 'Experiment timeout reached, hence experiment stopped. Current experiment timeout: 0 hour(s) 45 minute(s)'}],\n",
       " 'properties': {'num_iterations': '1000',\n",
       "  'training_type': 'TrainFull',\n",
       "  'acquisition_function': 'EI',\n",
       "  'primary_metric': 'normalized_mean_absolute_error',\n",
       "  'train_split': '0',\n",
       "  'acquisition_parameter': '0',\n",
       "  'num_cross_validation': '3',\n",
       "  'target': 'weather-cluster',\n",
       "  'AMLSettingsJsonString': '{\"path\":null,\"name\":\"automl-weather-forecasting\",\"subscription_id\":\"8791d321-d956-4566-8a38-238c7aab2ebd\",\"resource_group\":\"ml-study\",\"workspace_name\":\"ml-study-tien\",\"region\":\"eastus2\",\"compute_target\":\"weather-cluster\",\"spark_service\":null,\"azure_service\":\"remote\",\"many_models\":false,\"pipeline_fetch_max_batch_size\":1,\"enable_batch_run\":true,\"enable_run_restructure\":false,\"start_auxiliary_runs_before_parent_complete\":false,\"enable_code_generation\":false,\"iterations\":1000,\"primary_metric\":\"normalized_mean_absolute_error\",\"task_type\":\"regression\",\"positive_label\":null,\"data_script\":null,\"test_size\":0.0,\"test_include_predictions_only\":false,\"validation_size\":0.0,\"n_cross_validations\":3,\"y_min\":null,\"y_max\":null,\"num_classes\":null,\"featurization\":{\"_blocked_transformers\":null,\"_column_purposes\":{\"humidity\":\"Numeric\"},\"_transformer_params\":{\"Imputer\":[[[\"temp\"],{\"strategy\":\"constant\",\"fill_value\":0}],[[\"pressure\"],{\"strategy\":\"median\"}],[[\"humidity\"],{\"strategy\":\"median\"}],[[\"clouds_all\"],{\"strategy\":\"mode\"}]]},\"_dataset_language\":null,\"_drop_columns\":null,\"_prediction_transform_type\":null},\"_ignore_package_version_incompatibilities\":false,\"is_timeseries\":true,\"max_cores_per_iteration\":-1,\"max_concurrent_iterations\":1,\"iteration_timeout_minutes\":null,\"mem_in_mb\":null,\"enforce_time_on_windows\":true,\"experiment_timeout_minutes\":45,\"experiment_exit_score\":null,\"partition_column_names\":null,\"whitelist_models\":null,\"blacklist_algos\":[\"TensorFlowDNN\",\"TensorFlowLinearRegressor\"],\"supported_models\":[\"DecisionTree\",\"ExtremeRandomTrees\",\"GradientBoosting\",\"SGD\",\"LightGBM\",\"Naive\",\"TensorFlowDNN\",\"SeasonalAverage\",\"ExponentialSmoothing\",\"Arimax\",\"TabnetRegressor\",\"XGBoostRegressor\",\"TensorFlowLinearRegressor\",\"KNN\",\"Prophet\",\"AutoArima\",\"RandomForest\",\"ElasticNet\",\"Average\",\"SeasonalNaive\",\"TCNForecaster\",\"LassoLars\"],\"private_models\":[],\"auto_blacklist\":true,\"blacklist_samples_reached\":false,\"exclude_nan_labels\":true,\"verbosity\":20,\"_debug_log\":\"azureml_automl.log\",\"show_warnings\":false,\"model_explainability\":true,\"service_url\":null,\"sdk_url\":null,\"sdk_packages\":null,\"enable_onnx_compatible_models\":false,\"enable_split_onnx_featurizer_estimator_models\":false,\"vm_type\":\"STANDARD_DS3_V2\",\"telemetry_verbosity\":20,\"send_telemetry\":true,\"enable_dnn\":false,\"scenario\":\"SDK-1.13.0\",\"environment_label\":null,\"save_mlflow\":false,\"enable_categorical_indicators\":false,\"force_text_dnn\":false,\"enable_feature_sweeping\":false,\"time_column_name\":\"dt\",\"grain_column_names\":null,\"drop_column_names\":[],\"max_horizon\":200,\"dropna\":false,\"overwrite_columns\":true,\"transform_dictionary\":{\"min\":\"_automl_target_col\",\"max\":\"_automl_target_col\",\"mean\":\"_automl_target_col\"},\"window_size\":null,\"country_or_region\":null,\"lags\":null,\"feature_lags\":null,\"seasonality\":\"auto\",\"use_stl\":null,\"short_series_handling\":true,\"freq\":\"H\",\"short_series_handling_configuration\":\"auto\",\"target_aggregation_function\":null,\"cv_step_size\":null,\"enable_early_stopping\":true,\"early_stopping_n_iters\":10,\"arguments\":null,\"dataset_id\":\"4d66c309-eea8-457e-b9b8-2e6a88996108\",\"hyperdrive_config\":null,\"validation_dataset_id\":null,\"run_source\":null,\"metrics\":null,\"enable_metric_confidence\":false,\"enable_ensembling\":true,\"enable_stack_ensembling\":false,\"ensemble_iterations\":15,\"enable_tf\":false,\"enable_subsampling\":false,\"subsample_seed\":null,\"enable_nimbusml\":false,\"enable_streaming\":false,\"force_streaming\":false,\"track_child_runs\":true,\"allowed_private_models\":[],\"label_column_name\":\"temp\",\"weight_column_name\":null,\"cv_split_column_names\":null,\"enable_local_managed\":false,\"_local_managed_run_id\":null,\"cost_mode\":1,\"lag_length\":0,\"metric_operation\":\"minimize\",\"preprocess\":true}',\n",
       "  'DataPrepJsonString': '{\\\\\"training_data\\\\\": {\\\\\"datasetId\\\\\": \\\\\"4d66c309-eea8-457e-b9b8-2e6a88996108\\\\\"}, \\\\\"datasets\\\\\": 0}',\n",
       "  'EnableSubsampling': 'False',\n",
       "  'runTemplate': 'AutoML',\n",
       "  'azureml.runsource': 'automl',\n",
       "  'display_task_type': 'forecasting',\n",
       "  'dependencies_versions': '{\"azureml-widgets\": \"1.39.0\", \"azureml-train-restclients-hyperdrive\": \"1.39.0\", \"azureml-train-core\": \"1.39.0\", \"azureml-train-automl-client\": \"1.39.0\", \"azureml-telemetry\": \"1.39.0\", \"azureml-sdk\": \"1.39.0\", \"azureml-pipeline\": \"1.39.0\", \"azureml-pipeline-steps\": \"1.39.0\", \"azureml-pipeline-core\": \"1.39.0\", \"azureml-dataset-runtime\": \"1.39.0\", \"azureml-dataprep\": \"2.27.1\", \"azureml-dataprep-rslex\": \"2.3.1\", \"azureml-dataprep-native\": \"38.0.0\", \"azureml-core\": \"1.39.0\", \"azureml-automl-core\": \"1.39.0\"}',\n",
       "  '_aml_system_scenario_identification': 'Remote.Parent',\n",
       "  'ClientType': 'SDK',\n",
       "  'environment_cpu_name': 'AzureML-AutoML',\n",
       "  'environment_cpu_label': 'prod',\n",
       "  'environment_gpu_name': 'AzureML-AutoML-GPU',\n",
       "  'environment_gpu_label': 'prod',\n",
       "  'root_attribution': 'automl',\n",
       "  'attribution': 'AutoML',\n",
       "  'Orchestrator': 'AutoML',\n",
       "  'CancelUri': 'https://eastus2.api.azureml.ms/jasmine/v1.0/subscriptions/8791d321-d956-4566-8a38-238c7aab2ebd/resourceGroups/ml-study/providers/Microsoft.MachineLearningServices/workspaces/ml-study-tien/experimentids/ab8e3f9a-c207-4788-a3c5-d543194196b4/cancel/AutoML_f4fac072-ff0c-4ba2-bf35-edbdf9bb75df',\n",
       "  'ClientSdkVersion': '1.39.1',\n",
       "  'snapshotId': '00000000-0000-0000-0000-000000000000',\n",
       "  'SetupRunId': 'AutoML_f4fac072-ff0c-4ba2-bf35-edbdf9bb75df_setup',\n",
       "  'SetupRunContainerId': 'dcid.AutoML_f4fac072-ff0c-4ba2-bf35-edbdf9bb75df_setup',\n",
       "  'forecasting_target_lags': '[0]',\n",
       "  'forecasting_target_rolling_window_size': '0',\n",
       "  'forecasting_max_horizon': '200',\n",
       "  'forecasting_freq': 'H',\n",
       "  'ProblemInfoJsonString': '{\"dataset_num_categorical\": 0, \"is_sparse\": false, \"subsampling\": false, \"has_extra_col\": true, \"dataset_classes\": 1766, \"dataset_features\": 26, \"dataset_samples\": 145824, \"single_frequency_class_detected\": false, \"series_column_count\": 1, \"series_count\": 1, \"series_len_min\": 145824, \"series_len_max\": 145824, \"series_len_avg\": 145824.0, \"series_len_perc_25\": 145824.0, \"series_len_perc_50\": 145824.0, \"series_len_perc_75\": 145824.0}',\n",
       "  'ModelExplainRunId': 'AutoML_f4fac072-ff0c-4ba2-bf35-edbdf9bb75df_ModelExplain'},\n",
       " 'inputDatasets': [{'dataset': {'id': '4d66c309-eea8-457e-b9b8-2e6a88996108'}, 'consumptionDetails': {'type': 'RunInput', 'inputName': 'training_data', 'mechanism': 'Direct'}}],\n",
       " 'outputDatasets': [],\n",
       " 'logFiles': {},\n",
       " 'submittedBy': 'Anh Tien Doan'}"
      ]
     },
     "execution_count": 55,
     "metadata": {},
     "output_type": "execute_result"
    }
   ],
   "source": [
    "remote_run.wait_for_completion()"
   ]
  },
  {
   "cell_type": "markdown",
   "metadata": {},
   "source": [
    "#### **Retrieve the best run results**"
   ]
  },
  {
   "cell_type": "code",
   "execution_count": 94,
   "metadata": {},
   "outputs": [
    {
     "name": "stderr",
     "output_type": "stream",
     "text": [
      "WARNING:root:Forecasting task only supports simple imputation with following strategies: constant, ffill, mean, median, most_frequent. All other imputation settings will be ignored.\n",
      "WARNING:root:Forecasting task only supports simple imputation with following strategies: constant, ffill, mean, median, most_frequent. All other imputation settings will be ignored.\n"
     ]
    },
    {
     "ename": "AutoMLException",
     "evalue": "AutoMLException:\n\tMessage: Could not find a model with valid score for metric 'normalized_mean_absolute_error'. Please ensure that at least one run was successfully completed with a valid score for the given metric.\n\tInnerException: None\n\tErrorResponse \n{\n    \"error\": {\n        \"code\": \"UserError\",\n        \"message\": \"Could not find a model with valid score for metric 'normalized_mean_absolute_error'. Please ensure that at least one run was successfully completed with a valid score for the given metric.\",\n        \"target\": \"metric\",\n        \"inner_error\": {\n            \"code\": \"NotFound\",\n            \"inner_error\": {\n                \"code\": \"ModelMissing\"\n            }\n        }\n    }\n}",
     "output_type": "error",
     "traceback": [
      "\u001b[1;31m---------------------------------------------------------------------------\u001b[0m",
      "\u001b[1;31mAutoMLException\u001b[0m                           Traceback (most recent call last)",
      "\u001b[1;32m<ipython-input-94-0368c6ecf9e4>\u001b[0m in \u001b[0;36m<module>\u001b[1;34m\u001b[0m\n\u001b[1;32m----> 1\u001b[1;33m \u001b[0mbest_run\u001b[0m \u001b[1;33m=\u001b[0m \u001b[0mremote_run\u001b[0m\u001b[1;33m.\u001b[0m\u001b[0mget_best_child\u001b[0m\u001b[1;33m(\u001b[0m\u001b[1;33m)\u001b[0m\u001b[1;33m\u001b[0m\u001b[1;33m\u001b[0m\u001b[0m\n\u001b[0m\u001b[0;32m      2\u001b[0m \u001b[0mmodel_name\u001b[0m \u001b[1;33m=\u001b[0m \u001b[0mbest_run\u001b[0m\u001b[1;33m.\u001b[0m\u001b[0mproperties\u001b[0m\u001b[1;33m[\u001b[0m\u001b[1;34m\"model_name\"\u001b[0m\u001b[1;33m]\u001b[0m\u001b[1;33m\u001b[0m\u001b[1;33m\u001b[0m\u001b[0m\n\u001b[0;32m      3\u001b[0m \u001b[0mbest_run\u001b[0m\u001b[1;33m\u001b[0m\u001b[1;33m\u001b[0m\u001b[0m\n",
      "\u001b[1;32m~\\Anaconda3\\lib\\site-packages\\azureml\\train\\automl\\run.py\u001b[0m in \u001b[0;36mget_best_child\u001b[1;34m(self, metric, onnx_compatible, **kwargs)\u001b[0m\n\u001b[0;32m    738\u001b[0m         \u001b[1;32mif\u001b[0m \u001b[0mmetric\u001b[0m \u001b[1;32mis\u001b[0m \u001b[1;32mNone\u001b[0m \u001b[1;32mand\u001b[0m \u001b[1;32mnot\u001b[0m \u001b[0monnx_compatible\u001b[0m \u001b[1;32mand\u001b[0m \u001b[0mself\u001b[0m\u001b[1;33m.\u001b[0m\u001b[0m_has_cached_output\u001b[0m\u001b[1;33m(\u001b[0m\u001b[1;33m)\u001b[0m\u001b[1;33m:\u001b[0m\u001b[1;33m\u001b[0m\u001b[1;33m\u001b[0m\u001b[0m\n\u001b[0;32m    739\u001b[0m             \u001b[1;32mreturn\u001b[0m \u001b[0mself\u001b[0m\u001b[1;33m.\u001b[0m\u001b[0m_cached_best_run\u001b[0m\u001b[1;33m\u001b[0m\u001b[1;33m\u001b[0m\u001b[0m\n\u001b[1;32m--> 740\u001b[1;33m         run, _ = self._get_best_child_run(metric=metric,\n\u001b[0m\u001b[0;32m    741\u001b[0m                                           \u001b[0monnx_compatible\u001b[0m\u001b[1;33m=\u001b[0m\u001b[0monnx_compatible\u001b[0m\u001b[1;33m,\u001b[0m\u001b[1;33m\u001b[0m\u001b[1;33m\u001b[0m\u001b[0m\n\u001b[0;32m    742\u001b[0m                                           activity_name=automl_shared_constants.TelemetryConstants.GET_BEST_CHILD)\n",
      "\u001b[1;32m~\\Anaconda3\\lib\\site-packages\\azureml\\train\\automl\\run.py\u001b[0m in \u001b[0;36m_get_best_child_run\u001b[1;34m(self, iteration, metric, onnx_compatible, split_onnx_model_name, activity_name)\u001b[0m\n\u001b[0;32m    637\u001b[0m                     )\n\u001b[0;32m    638\u001b[0m                 \u001b[1;32melse\u001b[0m\u001b[1;33m:\u001b[0m\u001b[1;33m\u001b[0m\u001b[1;33m\u001b[0m\u001b[0m\n\u001b[1;32m--> 639\u001b[1;33m                     \u001b[0mcurr_run\u001b[0m \u001b[1;33m=\u001b[0m \u001b[0mself\u001b[0m\u001b[1;33m.\u001b[0m\u001b[0m_get_run_internal\u001b[0m\u001b[1;33m(\u001b[0m\u001b[0miteration\u001b[0m\u001b[1;33m,\u001b[0m \u001b[0mmetric\u001b[0m\u001b[1;33m,\u001b[0m \u001b[1;34m\"get_output\"\u001b[0m\u001b[1;33m)\u001b[0m\u001b[1;33m\u001b[0m\u001b[1;33m\u001b[0m\u001b[0m\n\u001b[0m\u001b[0;32m    640\u001b[0m                     \u001b[1;32mif\u001b[0m \u001b[0mcurr_run\u001b[0m \u001b[1;32mis\u001b[0m \u001b[1;32mNone\u001b[0m\u001b[1;33m:\u001b[0m\u001b[1;33m\u001b[0m\u001b[1;33m\u001b[0m\u001b[0m\n\u001b[0;32m    641\u001b[0m                         raise NotFoundException._with_error(\n",
      "\u001b[1;32m~\\Anaconda3\\lib\\site-packages\\azureml\\train\\automl\\run.py\u001b[0m in \u001b[0;36m_get_run_internal\u001b[1;34m(self, iteration, metric, operation_name)\u001b[0m\n\u001b[0;32m    801\u001b[0m                                                                 child_run_id=best_run_tag)\n\u001b[0;32m    802\u001b[0m                 \u001b[1;32melse\u001b[0m\u001b[1;33m:\u001b[0m\u001b[1;33m\u001b[0m\u001b[1;33m\u001b[0m\u001b[0m\n\u001b[1;32m--> 803\u001b[1;33m                     \u001b[0mchild_runs_and_scores\u001b[0m \u001b[1;33m=\u001b[0m \u001b[0mself\u001b[0m\u001b[1;33m.\u001b[0m\u001b[0m_get_all_automl_child_runs\u001b[0m\u001b[1;33m(\u001b[0m\u001b[0mautoml_settings\u001b[0m\u001b[1;33m.\u001b[0m\u001b[0mprimary_metric\u001b[0m\u001b[1;33m)\u001b[0m\u001b[1;33m\u001b[0m\u001b[1;33m\u001b[0m\u001b[0m\n\u001b[0m\u001b[0;32m    804\u001b[0m                     \u001b[0mcurr_run\u001b[0m \u001b[1;33m=\u001b[0m \u001b[0mchild_runs_and_scores\u001b[0m\u001b[1;33m[\u001b[0m\u001b[1;36m0\u001b[0m\u001b[1;33m]\u001b[0m\u001b[1;33m[\u001b[0m\u001b[1;36m0\u001b[0m\u001b[1;33m]\u001b[0m\u001b[1;33m\u001b[0m\u001b[1;33m\u001b[0m\u001b[0m\n\u001b[0;32m    805\u001b[0m \u001b[1;33m\u001b[0m\u001b[0m\n",
      "\u001b[1;32m~\\Anaconda3\\lib\\site-packages\\azureml\\train\\automl\\run.py\u001b[0m in \u001b[0;36m_get_all_automl_child_runs\u001b[1;34m(self, metric)\u001b[0m\n\u001b[0;32m    852\u001b[0m \u001b[1;33m\u001b[0m\u001b[0m\n\u001b[0;32m    853\u001b[0m             \u001b[1;32mif\u001b[0m \u001b[0mlen\u001b[0m\u001b[1;33m(\u001b[0m\u001b[0mchild_runs_scores\u001b[0m\u001b[1;33m)\u001b[0m \u001b[1;33m==\u001b[0m \u001b[1;36m0\u001b[0m\u001b[1;33m:\u001b[0m\u001b[1;33m\u001b[0m\u001b[1;33m\u001b[0m\u001b[0m\n\u001b[1;32m--> 854\u001b[1;33m                 \u001b[1;32mraise\u001b[0m \u001b[0mAutoMLException\u001b[0m\u001b[1;33m.\u001b[0m\u001b[0m_with_error\u001b[0m\u001b[1;33m(\u001b[0m\u001b[0mAzureMLError\u001b[0m\u001b[1;33m.\u001b[0m\u001b[0mcreate\u001b[0m\u001b[1;33m(\u001b[0m\u001b[0mModelMissing\u001b[0m\u001b[1;33m,\u001b[0m \u001b[0mtarget\u001b[0m\u001b[1;33m=\u001b[0m\u001b[1;34m\"metric\"\u001b[0m\u001b[1;33m,\u001b[0m \u001b[0mmetric\u001b[0m\u001b[1;33m=\u001b[0m\u001b[0mmetric\u001b[0m\u001b[1;33m)\u001b[0m\u001b[1;33m)\u001b[0m\u001b[1;33m\u001b[0m\u001b[1;33m\u001b[0m\u001b[0m\n\u001b[0m\u001b[0;32m    855\u001b[0m \u001b[1;33m\u001b[0m\u001b[0m\n\u001b[0;32m    856\u001b[0m         \u001b[1;32mreturn\u001b[0m \u001b[0mchild_runs_scores\u001b[0m\u001b[1;33m\u001b[0m\u001b[1;33m\u001b[0m\u001b[0m\n",
      "\u001b[1;31mAutoMLException\u001b[0m: AutoMLException:\n\tMessage: Could not find a model with valid score for metric 'normalized_mean_absolute_error'. Please ensure that at least one run was successfully completed with a valid score for the given metric.\n\tInnerException: None\n\tErrorResponse \n{\n    \"error\": {\n        \"code\": \"UserError\",\n        \"message\": \"Could not find a model with valid score for metric 'normalized_mean_absolute_error'. Please ensure that at least one run was successfully completed with a valid score for the given metric.\",\n        \"target\": \"metric\",\n        \"inner_error\": {\n            \"code\": \"NotFound\",\n            \"inner_error\": {\n                \"code\": \"ModelMissing\"\n            }\n        }\n    }\n}"
     ]
    }
   ],
   "source": [
    "best_run = remote_run.get_best_child()\n",
    "model_name = best_run.properties[\"model_name\"]\n",
    "best_run"
   ]
  },
  {
   "cell_type": "code",
   "execution_count": 93,
   "metadata": {},
   "outputs": [
    {
     "ename": "NameError",
     "evalue": "name 'best_run' is not defined",
     "output_type": "error",
     "traceback": [
      "\u001b[1;31m---------------------------------------------------------------------------\u001b[0m",
      "\u001b[1;31mNameError\u001b[0m                                 Traceback (most recent call last)",
      "\u001b[1;32m<ipython-input-93-746e0171a918>\u001b[0m in \u001b[0;36m<module>\u001b[1;34m\u001b[0m\n\u001b[1;32m----> 1\u001b[1;33m \u001b[0mbest_run\u001b[0m\u001b[1;33m.\u001b[0m\u001b[0mget_metrics\u001b[0m\u001b[1;33m(\u001b[0m\u001b[1;33m)\u001b[0m\u001b[1;33m\u001b[0m\u001b[1;33m\u001b[0m\u001b[0m\n\u001b[0m",
      "\u001b[1;31mNameError\u001b[0m: name 'best_run' is not defined"
     ]
    }
   ],
   "source": [
    "best_run.get_metrics()"
   ]
  },
  {
   "cell_type": "markdown",
   "metadata": {},
   "source": [
    "#### **Featurization summary**"
   ]
  },
  {
   "cell_type": "code",
   "execution_count": 58,
   "metadata": {},
   "outputs": [
    {
     "data": {
      "text/html": [
       "<div>\n",
       "<style scoped>\n",
       "    .dataframe tbody tr th:only-of-type {\n",
       "        vertical-align: middle;\n",
       "    }\n",
       "\n",
       "    .dataframe tbody tr th {\n",
       "        vertical-align: top;\n",
       "    }\n",
       "\n",
       "    .dataframe thead th {\n",
       "        text-align: right;\n",
       "    }\n",
       "</style>\n",
       "<table border=\"1\" class=\"dataframe\">\n",
       "  <thead>\n",
       "    <tr style=\"text-align: right;\">\n",
       "      <th></th>\n",
       "      <th>RawFeatureName</th>\n",
       "      <th>TypeDetected</th>\n",
       "      <th>Dropped</th>\n",
       "      <th>EngineeredFeatureCount</th>\n",
       "      <th>Transformations</th>\n",
       "      <th>TransformationParams</th>\n",
       "    </tr>\n",
       "  </thead>\n",
       "  <tbody>\n",
       "    <tr>\n",
       "      <th>0</th>\n",
       "      <td>feels_like</td>\n",
       "      <td>Numeric</td>\n",
       "      <td>No</td>\n",
       "      <td>2</td>\n",
       "      <td>[MedianImputer, ImputationMarker]</td>\n",
       "      <td>{'Transformer1': {'Input': ['feels_like'], 'TransformationFunction': 'Imputer', 'Operator': 'Median', 'FeatureType': 'Numeric', 'ShouldOutput': True, 'TransformationParams': None}}</td>\n",
       "    </tr>\n",
       "    <tr>\n",
       "      <th>1</th>\n",
       "      <td>pressure</td>\n",
       "      <td>Numeric</td>\n",
       "      <td>No</td>\n",
       "      <td>2</td>\n",
       "      <td>[MedianImputer, ImputationMarker]</td>\n",
       "      <td>{'Transformer1': {'Input': ['pressure'], 'TransformationFunction': 'Imputer', 'Operator': 'Median', 'FeatureType': 'Numeric', 'ShouldOutput': True, 'TransformationParams': None}}</td>\n",
       "    </tr>\n",
       "    <tr>\n",
       "      <th>2</th>\n",
       "      <td>humidity</td>\n",
       "      <td>Numeric</td>\n",
       "      <td>No</td>\n",
       "      <td>2</td>\n",
       "      <td>[MedianImputer, ImputationMarker]</td>\n",
       "      <td>{'Transformer1': {'Input': ['humidity'], 'TransformationFunction': 'Imputer', 'Operator': 'Median', 'FeatureType': 'Numeric', 'ShouldOutput': True, 'TransformationParams': None}}</td>\n",
       "    </tr>\n",
       "    <tr>\n",
       "      <th>3</th>\n",
       "      <td>wind_speed</td>\n",
       "      <td>Numeric</td>\n",
       "      <td>No</td>\n",
       "      <td>2</td>\n",
       "      <td>[MedianImputer, ImputationMarker]</td>\n",
       "      <td>{'Transformer1': {'Input': ['wind_speed'], 'TransformationFunction': 'Imputer', 'Operator': 'Median', 'FeatureType': 'Numeric', 'ShouldOutput': True, 'TransformationParams': None}}</td>\n",
       "    </tr>\n",
       "    <tr>\n",
       "      <th>4</th>\n",
       "      <td>clouds_all</td>\n",
       "      <td>Numeric</td>\n",
       "      <td>No</td>\n",
       "      <td>2</td>\n",
       "      <td>[MedianImputer, ImputationMarker]</td>\n",
       "      <td>{'Transformer1': {'Input': ['clouds_all'], 'TransformationFunction': 'Imputer', 'Operator': 'Median', 'FeatureType': 'Numeric', 'ShouldOutput': True, 'TransformationParams': None}}</td>\n",
       "    </tr>\n",
       "    <tr>\n",
       "      <th>5</th>\n",
       "      <td>wind_x</td>\n",
       "      <td>Numeric</td>\n",
       "      <td>No</td>\n",
       "      <td>2</td>\n",
       "      <td>[MedianImputer, ImputationMarker]</td>\n",
       "      <td>{'Transformer1': {'Input': ['wind_x'], 'TransformationFunction': 'Imputer', 'Operator': 'Median', 'FeatureType': 'Numeric', 'ShouldOutput': True, 'TransformationParams': None}}</td>\n",
       "    </tr>\n",
       "    <tr>\n",
       "      <th>6</th>\n",
       "      <td>wind_y</td>\n",
       "      <td>Numeric</td>\n",
       "      <td>No</td>\n",
       "      <td>2</td>\n",
       "      <td>[MedianImputer, ImputationMarker]</td>\n",
       "      <td>{'Transformer1': {'Input': ['wind_y'], 'TransformationFunction': 'Imputer', 'Operator': 'Median', 'FeatureType': 'Numeric', 'ShouldOutput': True, 'TransformationParams': None}}</td>\n",
       "    </tr>\n",
       "    <tr>\n",
       "      <th>7</th>\n",
       "      <td>_automl_target_col</td>\n",
       "      <td>Numeric</td>\n",
       "      <td>No</td>\n",
       "      <td>1</td>\n",
       "      <td>[ImputationMarker]</td>\n",
       "      <td>{'Transformer1': {'Input': ['_automl_target_col'], 'TransformationFunction': 'ImputationMarker', 'Operator': None, 'FeatureType': 'Numeric', 'ShouldOutput': True, 'TransformationParams': None}}</td>\n",
       "    </tr>\n",
       "    <tr>\n",
       "      <th>8</th>\n",
       "      <td>dt</td>\n",
       "      <td>DateTime</td>\n",
       "      <td>No</td>\n",
       "      <td>11</td>\n",
       "      <td>[DateTimeTransformer]</td>\n",
       "      <td>{'Transformer1': {'Input': ['dt'], 'TransformationFunction': 'DateTimeTransformer', 'Operator': None, 'FeatureType': 'DateTime', 'ShouldOutput': True, 'TransformationParams': None}}</td>\n",
       "    </tr>\n",
       "  </tbody>\n",
       "</table>\n",
       "</div>"
      ],
      "text/plain": [
       "       RawFeatureName TypeDetected Dropped  EngineeredFeatureCount  \\\n",
       "0          feels_like      Numeric      No                       2   \n",
       "1            pressure      Numeric      No                       2   \n",
       "2            humidity      Numeric      No                       2   \n",
       "3          wind_speed      Numeric      No                       2   \n",
       "4          clouds_all      Numeric      No                       2   \n",
       "5              wind_x      Numeric      No                       2   \n",
       "6              wind_y      Numeric      No                       2   \n",
       "7  _automl_target_col      Numeric      No                       1   \n",
       "8                  dt     DateTime      No                      11   \n",
       "\n",
       "                     Transformations  \\\n",
       "0  [MedianImputer, ImputationMarker]   \n",
       "1  [MedianImputer, ImputationMarker]   \n",
       "2  [MedianImputer, ImputationMarker]   \n",
       "3  [MedianImputer, ImputationMarker]   \n",
       "4  [MedianImputer, ImputationMarker]   \n",
       "5  [MedianImputer, ImputationMarker]   \n",
       "6  [MedianImputer, ImputationMarker]   \n",
       "7                 [ImputationMarker]   \n",
       "8              [DateTimeTransformer]   \n",
       "\n",
       "                                                                                                                                                                                TransformationParams  \n",
       "0               {'Transformer1': {'Input': ['feels_like'], 'TransformationFunction': 'Imputer', 'Operator': 'Median', 'FeatureType': 'Numeric', 'ShouldOutput': True, 'TransformationParams': None}}  \n",
       "1                 {'Transformer1': {'Input': ['pressure'], 'TransformationFunction': 'Imputer', 'Operator': 'Median', 'FeatureType': 'Numeric', 'ShouldOutput': True, 'TransformationParams': None}}  \n",
       "2                 {'Transformer1': {'Input': ['humidity'], 'TransformationFunction': 'Imputer', 'Operator': 'Median', 'FeatureType': 'Numeric', 'ShouldOutput': True, 'TransformationParams': None}}  \n",
       "3               {'Transformer1': {'Input': ['wind_speed'], 'TransformationFunction': 'Imputer', 'Operator': 'Median', 'FeatureType': 'Numeric', 'ShouldOutput': True, 'TransformationParams': None}}  \n",
       "4               {'Transformer1': {'Input': ['clouds_all'], 'TransformationFunction': 'Imputer', 'Operator': 'Median', 'FeatureType': 'Numeric', 'ShouldOutput': True, 'TransformationParams': None}}  \n",
       "5                   {'Transformer1': {'Input': ['wind_x'], 'TransformationFunction': 'Imputer', 'Operator': 'Median', 'FeatureType': 'Numeric', 'ShouldOutput': True, 'TransformationParams': None}}  \n",
       "6                   {'Transformer1': {'Input': ['wind_y'], 'TransformationFunction': 'Imputer', 'Operator': 'Median', 'FeatureType': 'Numeric', 'ShouldOutput': True, 'TransformationParams': None}}  \n",
       "7  {'Transformer1': {'Input': ['_automl_target_col'], 'TransformationFunction': 'ImputationMarker', 'Operator': None, 'FeatureType': 'Numeric', 'ShouldOutput': True, 'TransformationParams': None}}  \n",
       "8              {'Transformer1': {'Input': ['dt'], 'TransformationFunction': 'DateTimeTransformer', 'Operator': None, 'FeatureType': 'DateTime', 'ShouldOutput': True, 'TransformationParams': None}}  "
      ]
     },
     "execution_count": 58,
     "metadata": {},
     "output_type": "execute_result"
    }
   ],
   "source": [
    "best_run.download_file(\"outputs/featurization_summary.json\", \"featurization_summary.json\")\n",
    "\n",
    "with open(\"featurization_summary.json\", \"r\") as f:\n",
    "    records = json.load(f)\n",
    "\n",
    "fs = pd.DataFrame.from_records(records)\n",
    "fs"
   ]
  },
  {
   "cell_type": "markdown",
   "metadata": {},
   "source": [
    "#### **Inference**\n",
    "\n",
    "Evaluate the model's performance on the test dataset by using batch inference."
   ]
  },
  {
   "cell_type": "code",
   "execution_count": 59,
   "metadata": {},
   "outputs": [],
   "source": [
    "test_experiment = Experiment(ws, experiment_name + \"_inference\")"
   ]
  },
  {
   "cell_type": "markdown",
   "metadata": {},
   "source": [
    "#### **Retrieve forecast results**"
   ]
  },
  {
   "cell_type": "code",
   "execution_count": 62,
   "metadata": {},
   "outputs": [],
   "source": [
    "from run_forecast import run_remote_inference\n",
    "\n",
    "remote_run_infe = run_remote_inference(\n",
    "    test_experiment=test_experiment,\n",
    "    compute_target=compute_target,\n",
    "    train_run=best_run,\n",
    "    test_dataset=test_dataset,\n",
    "    target_column_name=target_column_name,\n",
    ")\n",
    "\n",
    "remote_run_infe.wait_for_completion(show_output=False)\n",
    "\n",
    "# Download the forecasted results to the local folders\n",
    "remote_run_infe.download_file(\"outputs/predictions.csv\", \"predictions.csv\")"
   ]
  },
  {
   "cell_type": "markdown",
   "metadata": {},
   "source": [
    "#### **Evaluate**"
   ]
  },
  {
   "cell_type": "code",
   "execution_count": 21,
   "metadata": {},
   "outputs": [
    {
     "data": {
      "text/html": [
       "<div>\n",
       "<style scoped>\n",
       "    .dataframe tbody tr th:only-of-type {\n",
       "        vertical-align: middle;\n",
       "    }\n",
       "\n",
       "    .dataframe tbody tr th {\n",
       "        vertical-align: top;\n",
       "    }\n",
       "\n",
       "    .dataframe thead th {\n",
       "        text-align: right;\n",
       "    }\n",
       "</style>\n",
       "<table border=\"1\" class=\"dataframe\">\n",
       "  <thead>\n",
       "    <tr style=\"text-align: right;\">\n",
       "      <th></th>\n",
       "      <th>dt</th>\n",
       "      <th>feels_like</th>\n",
       "      <th>pressure</th>\n",
       "      <th>humidity</th>\n",
       "      <th>wind_speed</th>\n",
       "      <th>clouds_all</th>\n",
       "      <th>wind_x</th>\n",
       "      <th>wind_y</th>\n",
       "      <th>temp</th>\n",
       "      <th>prediction_interval</th>\n",
       "      <th>predicted</th>\n",
       "    </tr>\n",
       "  </thead>\n",
       "  <tbody>\n",
       "    <tr>\n",
       "      <th>0</th>\n",
       "      <td>2017-08-21 07:00:00</td>\n",
       "      <td>31.13</td>\n",
       "      <td>1007</td>\n",
       "      <td>88</td>\n",
       "      <td>1.0</td>\n",
       "      <td>20</td>\n",
       "      <td>1.000000</td>\n",
       "      <td>0.000000</td>\n",
       "      <td>26.06</td>\n",
       "      <td>[24.286100630269246, 29.551652994753965]</td>\n",
       "      <td>26.918877</td>\n",
       "    </tr>\n",
       "    <tr>\n",
       "      <th>1</th>\n",
       "      <td>2017-08-21 08:00:00</td>\n",
       "      <td>31.19</td>\n",
       "      <td>1008</td>\n",
       "      <td>83</td>\n",
       "      <td>2.1</td>\n",
       "      <td>40</td>\n",
       "      <td>0.364661</td>\n",
       "      <td>-2.068096</td>\n",
       "      <td>26.95</td>\n",
       "      <td>[23.652492105814677, 31.099107673054682]</td>\n",
       "      <td>27.375800</td>\n",
       "    </tr>\n",
       "    <tr>\n",
       "      <th>2</th>\n",
       "      <td>2017-08-21 09:00:00</td>\n",
       "      <td>33.81</td>\n",
       "      <td>1008</td>\n",
       "      <td>79</td>\n",
       "      <td>2.6</td>\n",
       "      <td>40</td>\n",
       "      <td>-0.451485</td>\n",
       "      <td>-2.560500</td>\n",
       "      <td>29.14</td>\n",
       "      <td>[24.678005469141393, 33.798209694343356]</td>\n",
       "      <td>29.238108</td>\n",
       "    </tr>\n",
       "    <tr>\n",
       "      <th>3</th>\n",
       "      <td>2017-08-21 10:00:00</td>\n",
       "      <td>33.03</td>\n",
       "      <td>1008</td>\n",
       "      <td>66</td>\n",
       "      <td>4.1</td>\n",
       "      <td>40</td>\n",
       "      <td>1.402283</td>\n",
       "      <td>-3.852740</td>\n",
       "      <td>30.45</td>\n",
       "      <td>[24.41563214033458, 34.94673686930402]</td>\n",
       "      <td>29.681185</td>\n",
       "    </tr>\n",
       "    <tr>\n",
       "      <th>4</th>\n",
       "      <td>2017-08-21 11:00:00</td>\n",
       "      <td>32.70</td>\n",
       "      <td>1008</td>\n",
       "      <td>62</td>\n",
       "      <td>4.6</td>\n",
       "      <td>40</td>\n",
       "      <td>1.573293</td>\n",
       "      <td>-4.322586</td>\n",
       "      <td>30.84</td>\n",
       "      <td>[23.427194914859932, 35.20132794093251]</td>\n",
       "      <td>29.314261</td>\n",
       "    </tr>\n",
       "  </tbody>\n",
       "</table>\n",
       "</div>"
      ],
      "text/plain": [
       "                   dt  feels_like  pressure  humidity  wind_speed  clouds_all  \\\n",
       "0 2017-08-21 07:00:00       31.13      1007        88         1.0          20   \n",
       "1 2017-08-21 08:00:00       31.19      1008        83         2.1          40   \n",
       "2 2017-08-21 09:00:00       33.81      1008        79         2.6          40   \n",
       "3 2017-08-21 10:00:00       33.03      1008        66         4.1          40   \n",
       "4 2017-08-21 11:00:00       32.70      1008        62         4.6          40   \n",
       "\n",
       "     wind_x    wind_y   temp                       prediction_interval  \\\n",
       "0  1.000000  0.000000  26.06  [24.286100630269246, 29.551652994753965]   \n",
       "1  0.364661 -2.068096  26.95  [23.652492105814677, 31.099107673054682]   \n",
       "2 -0.451485 -2.560500  29.14  [24.678005469141393, 33.798209694343356]   \n",
       "3  1.402283 -3.852740  30.45    [24.41563214033458, 34.94673686930402]   \n",
       "4  1.573293 -4.322586  30.84   [23.427194914859932, 35.20132794093251]   \n",
       "\n",
       "   predicted  \n",
       "0  26.918877  \n",
       "1  27.375800  \n",
       "2  29.238108  \n",
       "3  29.681185  \n",
       "4  29.314261  "
      ]
     },
     "execution_count": 21,
     "metadata": {},
     "output_type": "execute_result"
    }
   ],
   "source": [
    "# load forecast data frame\n",
    "fc_df = pd.read_csv(\"predictions.csv\", parse_dates=[time_column_name])\n",
    "fc_df.head()"
   ]
  },
  {
   "cell_type": "code",
   "execution_count": 82,
   "metadata": {},
   "outputs": [
    {
     "name": "stdout",
     "output_type": "stream",
     "text": [
      "[Test data scores]\n",
      "\n",
      "r2_score: 0.515\n",
      "normalized_root_mean_squared_log_error: 0.101\n",
      "median_absolute_error: 1.186\n",
      "root_mean_squared_error: 1.940\n",
      "spearman_correlation: 0.762\n",
      "mean_absolute_percentage_error: 5.278\n",
      "root_mean_squared_log_error: 0.065\n",
      "normalized_mean_absolute_error: 0.083\n",
      "normalized_root_mean_squared_error: 0.107\n",
      "explained_variance: 0.550\n",
      "mean_absolute_error: 1.511\n",
      "normalized_median_absolute_error: 0.065\n"
     ]
    },
    {
     "data": {
      "text/plain": [
       "<matplotlib.legend.Legend at 0x18a3849b370>"
      ]
     },
     "execution_count": 82,
     "metadata": {},
     "output_type": "execute_result"
    },
    {
     "data": {
      "image/png": "[encoded data removed]",
      "text/plain": [
       "<Figure size 720x432 with 1 Axes>"
      ]
     },
     "metadata": {
      "needs_background": "light"
     },
     "output_type": "display_data"
    }
   ],
   "source": [
    "from azureml.automl.core.shared import constants\n",
    "from azureml.automl.runtime.shared.score import scoring\n",
    "from matplotlib import pyplot as plt\n",
    "\n",
    "# use automl scoring module\n",
    "scores = scoring.score_regression(\n",
    "    y_test=fc_df[target_column_name],\n",
    "    y_pred=fc_df[\"predicted\"],\n",
    "    metrics=list(constants.Metric.SCALAR_REGRESSION_SET),\n",
    ")\n",
    "\n",
    "print(\"[Test data scores]\\n\")\n",
    "for key, value in scores.items():\n",
    "    print(\"{}: {:.3f}\".format(key, value))\n",
    "\n",
    "# Plot outputs\n",
    "%matplotlib inline\n",
    "plt.figure(figsize=(10,6))\n",
    "fc_df['temp'][:100].plot(label='actual', color='dodgerblue', linewidth=1.5)\n",
    "fc_df['predicted'][:100].plot(label='prediction', color='crimson', linewidth=1.5)\n",
    "plt.legend()"
   ]
  },
  {
   "cell_type": "code",
   "execution_count": null,
   "metadata": {},
   "outputs": [],
   "source": [
    "description = \"AutoML Weather Forecaster\"\n",
    "tags = None\n",
    "model = remote_run.register_model(\n",
    "    model_name=model_name, description=description, tags=tags\n",
    ")\n",
    "\n",
    "print(remote_run.model_id)"
   ]
  }
 ],
 "metadata": {
  "interpreter": {
   "hash": "3402921cf80275f550efc13405b26395a5e318ddedde431f5cf4ab1d6eb4fbe2"
  },
  "kernelspec": {
   "display_name": "Python 3.6.2 ('azureml_809a074975457de1dd27bdfcf2d79d61')",
   "language": "python",
   "name": "python3"
  },
  "language_info": {
   "codemirror_mode": {
    "name": "ipython",
    "version": 3
   },
   "file_extension": ".py",
   "mimetype": "text/x-python",
   "name": "python",
   "nbconvert_exporter": "python",
   "pygments_lexer": "ipython3",
   "version": "3.8.5"
  },
  "orig_nbformat": 4
 },
 "nbformat": 4,
 "nbformat_minor": 2
}
